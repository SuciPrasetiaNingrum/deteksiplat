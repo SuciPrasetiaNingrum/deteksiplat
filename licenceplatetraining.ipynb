{
 "cells": [
  {
   "cell_type": "markdown",
   "metadata": {},
   "source": [
    "# 1. Import Library"
   ]
  },
  {
   "cell_type": "code",
   "execution_count": 1,
   "metadata": {},
   "outputs": [],
   "source": [
    "import os\n",
    "from ultralytics import YOLO\n",
    "import matplotlib.pyplot as plt"
   ]
  },
  {
   "cell_type": "code",
   "execution_count": 2,
   "metadata": {},
   "outputs": [
    {
     "name": "stdout",
     "output_type": "stream",
     "text": [
      "Torch version: 2.6.0+cu126\n",
      "GPU available: True\n"
     ]
    }
   ],
   "source": [
    "import torch\n",
    "print(\"Torch version:\", torch.__version__)\n",
    "print(\"GPU available:\", torch.cuda.is_available())"
   ]
  },
  {
   "cell_type": "code",
   "execution_count": 3,
   "metadata": {},
   "outputs": [],
   "source": [
    "torch.cuda.empty_cache()"
   ]
  },
  {
   "cell_type": "markdown",
   "metadata": {},
   "source": [
    "# 2. Cek Struktur Dataset"
   ]
  },
  {
   "cell_type": "code",
   "execution_count": 4,
   "metadata": {},
   "outputs": [],
   "source": [
    "dataset_path = \"./Datasets2\"  # Ubah ke lokasi dataset kamu\n",
    "save_dir = \"./content/runs/detect\""
   ]
  },
  {
   "cell_type": "code",
   "execution_count": 5,
   "metadata": {},
   "outputs": [
    {
     "name": "stdout",
     "output_type": "stream",
     "text": [
      "train: D:\\Kuliah\\SEMESTER 6\\PDM\\Suci\\Datasets2\\train\n",
      "val: D:\\Kuliah\\SEMESTER 6\\PDM\\Suci\\Datasets2\\valid\n",
      "test: D:\\Kuliah\\SEMESTER 6\\PDM\\Suci\\Datasets2\\test\n",
      "\n",
      "nc: 1\n",
      "names: ['License_Plate']\n",
      "\n",
      "roboflow:\n",
      "  workspace: roboflow-universe-projects\n",
      "  project: license-plate-recognition-rxg4e\n",
      "  version: 11\n",
      "  license: CC BY 4.0\n",
      "  url: https://universe.roboflow.com/roboflow-universe-projects/license-plate-recognition-rxg4e/dataset/11\n"
     ]
    }
   ],
   "source": [
    "with open(os.path.join(dataset_path, \"data.yaml\"), 'r') as f:\n",
    "    print(f.read())"
   ]
  },
  {
   "cell_type": "code",
   "execution_count": 6,
   "metadata": {},
   "outputs": [],
   "source": [
    "model = YOLO('./model/yolov8n.pt')"
   ]
  },
  {
   "cell_type": "code",
   "execution_count": 7,
   "metadata": {},
   "outputs": [
    {
     "name": "stdout",
     "output_type": "stream",
     "text": [
      "New https://pypi.org/project/ultralytics/8.3.133 available  Update with 'pip install -U ultralytics'\n",
      "Ultralytics 8.3.55  Python-3.12.2 torch-2.6.0+cu126 CUDA:0 (NVIDIA GeForce GTX 1650, 4096MiB)\n",
      "\u001b[34m\u001b[1mengine\\trainer: \u001b[0mtask=detect, mode=train, model=./model/yolov8n.pt, data=./Datasets2\\data.yaml, epochs=10, time=None, patience=20, batch=4, imgsz=640, save=True, save_period=-1, cache=False, device=0, workers=4, project=None, name=cellphone-detection-tuned4, exist_ok=False, pretrained=True, optimizer=AdamW, verbose=True, seed=0, deterministic=True, single_cls=False, rect=False, cos_lr=False, close_mosaic=10, resume=False, amp=True, fraction=1.0, profile=False, freeze=None, multi_scale=False, overlap_mask=True, mask_ratio=4, dropout=0.0, val=True, split=val, save_json=False, save_hybrid=False, conf=None, iou=0.7, max_det=300, half=False, dnn=False, plots=True, source=None, vid_stride=1, stream_buffer=False, visualize=False, augment=False, agnostic_nms=False, classes=None, retina_masks=False, embed=None, show=False, save_frames=False, save_txt=False, save_conf=False, save_crop=False, show_labels=True, show_conf=True, show_boxes=True, line_width=None, format=torchscript, keras=False, optimize=False, int8=False, dynamic=False, simplify=True, opset=None, workspace=None, nms=False, lr0=0.0015, lrf=0.01, momentum=0.937, weight_decay=0.001, warmup_epochs=3, warmup_momentum=0.8, warmup_bias_lr=0.1, box=7.5, cls=0.5, dfl=1.5, pose=12.0, kobj=1.0, nbs=64, hsv_h=0.015, hsv_s=0.7, hsv_v=0.4, degrees=0.0, translate=0.1, scale=0.5, shear=0.0, perspective=0.0, flipud=0.0, fliplr=0.5, bgr=0.0, mosaic=1.0, mixup=0.0, copy_paste=0.0, copy_paste_mode=flip, auto_augment=randaugment, erasing=0.4, crop_fraction=1.0, cfg=None, tracker=botsort.yaml, save_dir=runs\\detect\\cellphone-detection-tuned4\n",
      "Overriding model.yaml nc=80 with nc=1\n",
      "\n",
      "                   from  n    params  module                                       arguments                     \n",
      "  0                  -1  1       464  ultralytics.nn.modules.conv.Conv             [3, 16, 3, 2]                 \n",
      "  1                  -1  1      4672  ultralytics.nn.modules.conv.Conv             [16, 32, 3, 2]                \n",
      "  2                  -1  1      7360  ultralytics.nn.modules.block.C2f             [32, 32, 1, True]             \n",
      "  3                  -1  1     18560  ultralytics.nn.modules.conv.Conv             [32, 64, 3, 2]                \n",
      "  4                  -1  2     49664  ultralytics.nn.modules.block.C2f             [64, 64, 2, True]             \n",
      "  5                  -1  1     73984  ultralytics.nn.modules.conv.Conv             [64, 128, 3, 2]               \n",
      "  6                  -1  2    197632  ultralytics.nn.modules.block.C2f             [128, 128, 2, True]           \n",
      "  7                  -1  1    295424  ultralytics.nn.modules.conv.Conv             [128, 256, 3, 2]              \n",
      "  8                  -1  1    460288  ultralytics.nn.modules.block.C2f             [256, 256, 1, True]           \n",
      "  9                  -1  1    164608  ultralytics.nn.modules.block.SPPF            [256, 256, 5]                 \n",
      " 10                  -1  1         0  torch.nn.modules.upsampling.Upsample         [None, 2, 'nearest']          \n",
      " 11             [-1, 6]  1         0  ultralytics.nn.modules.conv.Concat           [1]                           \n",
      " 12                  -1  1    148224  ultralytics.nn.modules.block.C2f             [384, 128, 1]                 \n",
      " 13                  -1  1         0  torch.nn.modules.upsampling.Upsample         [None, 2, 'nearest']          \n",
      " 14             [-1, 4]  1         0  ultralytics.nn.modules.conv.Concat           [1]                           \n",
      " 15                  -1  1     37248  ultralytics.nn.modules.block.C2f             [192, 64, 1]                  \n",
      " 16                  -1  1     36992  ultralytics.nn.modules.conv.Conv             [64, 64, 3, 2]                \n",
      " 17            [-1, 12]  1         0  ultralytics.nn.modules.conv.Concat           [1]                           \n",
      " 18                  -1  1    123648  ultralytics.nn.modules.block.C2f             [192, 128, 1]                 \n",
      " 19                  -1  1    147712  ultralytics.nn.modules.conv.Conv             [128, 128, 3, 2]              \n",
      " 20             [-1, 9]  1         0  ultralytics.nn.modules.conv.Concat           [1]                           \n",
      " 21                  -1  1    493056  ultralytics.nn.modules.block.C2f             [384, 256, 1]                 \n",
      " 22        [15, 18, 21]  1    751507  ultralytics.nn.modules.head.Detect           [1, [64, 128, 256]]           \n",
      "Model summary: 225 layers, 3,011,043 parameters, 3,011,027 gradients, 8.2 GFLOPs\n",
      "\n",
      "Transferred 319/355 items from pretrained weights\n",
      "\u001b[34m\u001b[1mTensorBoard: \u001b[0mStart with 'tensorboard --logdir runs\\detect\\cellphone-detection-tuned4', view at http://localhost:6006/\n",
      "Freezing layer 'model.22.dfl.conv.weight'\n",
      "\u001b[34m\u001b[1mAMP: \u001b[0mchecks failed . AMP training on NVIDIA GeForce GTX 1650 GPU may cause NaN losses or zero-mAP results, so AMP will be disabled during training.\n"
     ]
    },
    {
     "name": "stderr",
     "output_type": "stream",
     "text": [
      "\u001b[34m\u001b[1mtrain: \u001b[0mScanning D:\\Kuliah\\SEMESTER 6\\PDM\\Suci\\Datasets2\\train\\labels.cache... 7057 images, 5 backgrounds, 0 corrupt: 100%|██████████| 7057/7057 [00:00<?, ?it/s]\n",
      "\u001b[34m\u001b[1mval: \u001b[0mScanning D:\\Kuliah\\SEMESTER 6\\PDM\\Suci\\Datasets2\\valid\\labels.cache... 2048 images, 3 backgrounds, 0 corrupt: 100%|██████████| 2048/2048 [00:00<?, ?it/s]\n"
     ]
    },
    {
     "name": "stdout",
     "output_type": "stream",
     "text": [
      "Plotting labels to runs\\detect\\cellphone-detection-tuned4\\labels.jpg... \n",
      "\u001b[34m\u001b[1moptimizer:\u001b[0m AdamW(lr=0.0015, momentum=0.937) with parameter groups 57 weight(decay=0.0), 64 weight(decay=0.001), 63 bias(decay=0.0)\n",
      "\u001b[34m\u001b[1mTensorBoard: \u001b[0mmodel graph visualization added \n",
      "Image sizes 640 train, 640 val\n",
      "Using 4 dataloader workers\n",
      "Logging results to \u001b[1mruns\\detect\\cellphone-detection-tuned4\u001b[0m\n",
      "Starting training for 10 epochs...\n",
      "Closing dataloader mosaic\n",
      "\n",
      "      Epoch    GPU_mem   box_loss   cls_loss   dfl_loss  Instances       Size\n"
     ]
    },
    {
     "name": "stderr",
     "output_type": "stream",
     "text": [
      "       1/10      2.23G       1.34     0.9567      1.234          1        640: 100%|██████████| 1765/1765 [05:42<00:00,  5.16it/s]\n",
      "                 Class     Images  Instances      Box(P          R      mAP50  mAP50-95): 100%|██████████| 256/256 [00:30<00:00,  8.40it/s]"
     ]
    },
    {
     "name": "stdout",
     "output_type": "stream",
     "text": [
      "                   all       2048       2195      0.952      0.848       0.91      0.571\n"
     ]
    },
    {
     "name": "stderr",
     "output_type": "stream",
     "text": [
      "\n"
     ]
    },
    {
     "name": "stdout",
     "output_type": "stream",
     "text": [
      "\n",
      "      Epoch    GPU_mem   box_loss   cls_loss   dfl_loss  Instances       Size\n"
     ]
    },
    {
     "name": "stderr",
     "output_type": "stream",
     "text": [
      "       2/10      2.21G      1.286     0.7727      1.203          1        640: 100%|██████████| 1765/1765 [05:17<00:00,  5.56it/s]\n",
      "                 Class     Images  Instances      Box(P          R      mAP50  mAP50-95): 100%|██████████| 256/256 [00:27<00:00,  9.23it/s]"
     ]
    },
    {
     "name": "stdout",
     "output_type": "stream",
     "text": [
      "                   all       2048       2195      0.945      0.846      0.925      0.592\n"
     ]
    },
    {
     "name": "stderr",
     "output_type": "stream",
     "text": [
      "\n"
     ]
    },
    {
     "name": "stdout",
     "output_type": "stream",
     "text": [
      "\n",
      "      Epoch    GPU_mem   box_loss   cls_loss   dfl_loss  Instances       Size\n"
     ]
    },
    {
     "name": "stderr",
     "output_type": "stream",
     "text": [
      "       3/10      2.21G      1.247        0.7      1.184          1        640: 100%|██████████| 1765/1765 [05:18<00:00,  5.55it/s]\n",
      "                 Class     Images  Instances      Box(P          R      mAP50  mAP50-95): 100%|██████████| 256/256 [00:28<00:00,  9.06it/s]\n"
     ]
    },
    {
     "name": "stdout",
     "output_type": "stream",
     "text": [
      "                   all       2048       2195      0.921      0.875      0.885      0.557\n",
      "\n",
      "      Epoch    GPU_mem   box_loss   cls_loss   dfl_loss  Instances       Size\n"
     ]
    },
    {
     "name": "stderr",
     "output_type": "stream",
     "text": [
      "       4/10      2.21G      1.219     0.6606      1.161          1        640: 100%|██████████| 1765/1765 [05:16<00:00,  5.58it/s]\n",
      "                 Class     Images  Instances      Box(P          R      mAP50  mAP50-95): 100%|██████████| 256/256 [00:27<00:00,  9.25it/s]"
     ]
    },
    {
     "name": "stdout",
     "output_type": "stream",
     "text": [
      "                   all       2048       2195      0.945      0.902      0.926      0.615\n"
     ]
    },
    {
     "name": "stderr",
     "output_type": "stream",
     "text": [
      "\n"
     ]
    },
    {
     "name": "stdout",
     "output_type": "stream",
     "text": [
      "\n",
      "      Epoch    GPU_mem   box_loss   cls_loss   dfl_loss  Instances       Size\n"
     ]
    },
    {
     "name": "stderr",
     "output_type": "stream",
     "text": [
      "       5/10      2.21G      1.196     0.6145       1.14          1        640: 100%|██████████| 1765/1765 [05:14<00:00,  5.61it/s]\n",
      "                 Class     Images  Instances      Box(P          R      mAP50  mAP50-95): 100%|██████████| 256/256 [00:27<00:00,  9.27it/s]"
     ]
    },
    {
     "name": "stdout",
     "output_type": "stream",
     "text": [
      "                   all       2048       2195      0.947      0.902      0.942      0.631\n"
     ]
    },
    {
     "name": "stderr",
     "output_type": "stream",
     "text": [
      "\n"
     ]
    },
    {
     "name": "stdout",
     "output_type": "stream",
     "text": [
      "\n",
      "      Epoch    GPU_mem   box_loss   cls_loss   dfl_loss  Instances       Size\n"
     ]
    },
    {
     "name": "stderr",
     "output_type": "stream",
     "text": [
      "       6/10      2.21G      1.169     0.5845      1.129          1        640: 100%|██████████| 1765/1765 [05:13<00:00,  5.63it/s]\n",
      "                 Class     Images  Instances      Box(P          R      mAP50  mAP50-95): 100%|██████████| 256/256 [00:26<00:00,  9.53it/s]"
     ]
    },
    {
     "name": "stdout",
     "output_type": "stream",
     "text": [
      "                   all       2048       2195       0.96      0.903      0.943      0.641\n"
     ]
    },
    {
     "name": "stderr",
     "output_type": "stream",
     "text": [
      "\n"
     ]
    },
    {
     "name": "stdout",
     "output_type": "stream",
     "text": [
      "\n",
      "      Epoch    GPU_mem   box_loss   cls_loss   dfl_loss  Instances       Size\n"
     ]
    },
    {
     "name": "stderr",
     "output_type": "stream",
     "text": [
      "       7/10      2.21G      1.144     0.5549       1.11          1        640: 100%|██████████| 1765/1765 [05:13<00:00,  5.63it/s]\n",
      "                 Class     Images  Instances      Box(P          R      mAP50  mAP50-95): 100%|██████████| 256/256 [00:27<00:00,  9.44it/s]"
     ]
    },
    {
     "name": "stdout",
     "output_type": "stream",
     "text": [
      "                   all       2048       2195      0.959      0.925      0.953      0.653\n"
     ]
    },
    {
     "name": "stderr",
     "output_type": "stream",
     "text": [
      "\n"
     ]
    },
    {
     "name": "stdout",
     "output_type": "stream",
     "text": [
      "\n",
      "      Epoch    GPU_mem   box_loss   cls_loss   dfl_loss  Instances       Size\n"
     ]
    },
    {
     "name": "stderr",
     "output_type": "stream",
     "text": [
      "       8/10       2.2G      1.127      0.529      1.096          1        640: 100%|██████████| 1765/1765 [05:16<00:00,  5.58it/s]\n",
      "                 Class     Images  Instances      Box(P          R      mAP50  mAP50-95): 100%|██████████| 256/256 [00:27<00:00,  9.41it/s]"
     ]
    },
    {
     "name": "stdout",
     "output_type": "stream",
     "text": [
      "                   all       2048       2195      0.972      0.921      0.955      0.663\n"
     ]
    },
    {
     "name": "stderr",
     "output_type": "stream",
     "text": [
      "\n"
     ]
    },
    {
     "name": "stdout",
     "output_type": "stream",
     "text": [
      "\n",
      "      Epoch    GPU_mem   box_loss   cls_loss   dfl_loss  Instances       Size\n"
     ]
    },
    {
     "name": "stderr",
     "output_type": "stream",
     "text": [
      "       9/10      2.21G      1.103      0.501      1.076          1        640: 100%|██████████| 1765/1765 [05:13<00:00,  5.63it/s]\n",
      "                 Class     Images  Instances      Box(P          R      mAP50  mAP50-95): 100%|██████████| 256/256 [00:27<00:00,  9.29it/s]"
     ]
    },
    {
     "name": "stdout",
     "output_type": "stream",
     "text": [
      "                   all       2048       2195      0.972      0.929      0.963      0.675\n"
     ]
    },
    {
     "name": "stderr",
     "output_type": "stream",
     "text": [
      "\n"
     ]
    },
    {
     "name": "stdout",
     "output_type": "stream",
     "text": [
      "\n",
      "      Epoch    GPU_mem   box_loss   cls_loss   dfl_loss  Instances       Size\n"
     ]
    },
    {
     "name": "stderr",
     "output_type": "stream",
     "text": [
      "      10/10      2.21G      1.087     0.4778      1.076          1        640: 100%|██████████| 1765/1765 [05:14<00:00,  5.62it/s]\n",
      "                 Class     Images  Instances      Box(P          R      mAP50  mAP50-95): 100%|██████████| 256/256 [00:27<00:00,  9.27it/s]"
     ]
    },
    {
     "name": "stdout",
     "output_type": "stream",
     "text": [
      "                   all       2048       2195      0.982      0.918      0.963      0.686\n"
     ]
    },
    {
     "name": "stderr",
     "output_type": "stream",
     "text": [
      "\n"
     ]
    },
    {
     "name": "stdout",
     "output_type": "stream",
     "text": [
      "\n",
      "10 epochs completed in 0.969 hours.\n",
      "Optimizer stripped from runs\\detect\\cellphone-detection-tuned4\\weights\\last.pt, 6.2MB\n",
      "Optimizer stripped from runs\\detect\\cellphone-detection-tuned4\\weights\\best.pt, 6.2MB\n",
      "\n",
      "Validating runs\\detect\\cellphone-detection-tuned4\\weights\\best.pt...\n",
      "Ultralytics 8.3.55  Python-3.12.2 torch-2.6.0+cu126 CUDA:0 (NVIDIA GeForce GTX 1650, 4096MiB)\n",
      "Model summary (fused): 168 layers, 3,005,843 parameters, 0 gradients, 8.1 GFLOPs\n"
     ]
    },
    {
     "name": "stderr",
     "output_type": "stream",
     "text": [
      "                 Class     Images  Instances      Box(P          R      mAP50  mAP50-95): 100%|██████████| 256/256 [00:24<00:00, 10.50it/s]\n"
     ]
    },
    {
     "name": "stdout",
     "output_type": "stream",
     "text": [
      "                   all       2048       2195      0.982      0.918      0.963      0.686\n",
      "Speed: 0.3ms preprocess, 4.5ms inference, 0.0ms loss, 1.6ms postprocess per image\n",
      "Results saved to \u001b[1mruns\\detect\\cellphone-detection-tuned4\u001b[0m\n"
     ]
    }
   ],
   "source": [
    "results = model.train(\n",
    "    data=os.path.join(dataset_path, \"data.yaml\"),\n",
    "    optimizer=\"SGD\",\n",
    "    lr0=0.01,\n",
    "    epochs=20,\n",
    "    name=\"plat-detection-v2\",\n",
    "    imgsz=512,\n",
    "    weight_decay=0.0005,\n",
    "    batch=8,\n",
    "    warmup_bias_lr=0.2,\n",
    "    device=0,\n",
    "    momentum=0.9,\n",
    "    warmup_momentum=0.9,\n",
    "    amp=True,\n",
    "    warmup_epochs=2,\n",
    "    patience=10,\n",
    "    lrf=0.1,\n",
    "    verbose=True,\n",
    "    pretrained=True,\n",
    "    workers=2\n",
    ")\n"
   ]
  },
  {
   "cell_type": "markdown",
   "metadata": {},
   "source": [
    "# Evaluate model"
   ]
  },
  {
   "cell_type": "code",
   "execution_count": 8,
   "metadata": {},
   "outputs": [
    {
     "name": "stdout",
     "output_type": "stream",
     "text": [
      "Ultralytics 8.3.55  Python-3.12.2 torch-2.6.0+cu126 CUDA:0 (NVIDIA GeForce GTX 1650, 4096MiB)\n",
      "Model summary (fused): 168 layers, 3,005,843 parameters, 0 gradients, 8.1 GFLOPs\n"
     ]
    },
    {
     "name": "stderr",
     "output_type": "stream",
     "text": [
      "\u001b[34m\u001b[1mval: \u001b[0mScanning D:\\Kuliah\\SEMESTER 6\\PDM\\Suci\\Datasets2\\test\\labels... 1020 images, 1 backgrounds, 0 corrupt: 100%|██████████| 1020/1020 [00:01<00:00, 571.21it/s]\n"
     ]
    },
    {
     "name": "stdout",
     "output_type": "stream",
     "text": [
      "\u001b[34m\u001b[1mval: \u001b[0mNew cache created: D:\\Kuliah\\SEMESTER 6\\PDM\\Suci\\Datasets2\\test\\labels.cache\n"
     ]
    },
    {
     "name": "stderr",
     "output_type": "stream",
     "text": [
      "                 Class     Images  Instances      Box(P          R      mAP50  mAP50-95): 100%|██████████| 255/255 [00:12<00:00, 20.49it/s]\n"
     ]
    },
    {
     "name": "stdout",
     "output_type": "stream",
     "text": [
      "                   all       1020       1085      0.975      0.942      0.969      0.688\n",
      "Speed: 0.3ms preprocess, 5.0ms inference, 0.0ms loss, 1.5ms postprocess per image\n",
      "Results saved to \u001b[1mruns\\detect\\cellphone-detection-tuned42\u001b[0m\n",
      "ultralytics.utils.metrics.DetMetrics object with attributes:\n",
      "\n",
      "ap_class_index: array([0])\n",
      "box: ultralytics.utils.metrics.Metric object\n",
      "confusion_matrix: <ultralytics.utils.metrics.ConfusionMatrix object at 0x000002727FCE9970>\n",
      "curves: ['Precision-Recall(B)', 'F1-Confidence(B)', 'Precision-Confidence(B)', 'Recall-Confidence(B)']\n",
      "curves_results: [[array([          0,    0.001001,    0.002002,    0.003003,    0.004004,    0.005005,    0.006006,    0.007007,    0.008008,    0.009009,     0.01001,    0.011011,    0.012012,    0.013013,    0.014014,    0.015015,    0.016016,    0.017017,    0.018018,    0.019019,     0.02002,    0.021021,    0.022022,    0.023023,\n",
      "          0.024024,    0.025025,    0.026026,    0.027027,    0.028028,    0.029029,     0.03003,    0.031031,    0.032032,    0.033033,    0.034034,    0.035035,    0.036036,    0.037037,    0.038038,    0.039039,     0.04004,    0.041041,    0.042042,    0.043043,    0.044044,    0.045045,    0.046046,    0.047047,\n",
      "          0.048048,    0.049049,     0.05005,    0.051051,    0.052052,    0.053053,    0.054054,    0.055055,    0.056056,    0.057057,    0.058058,    0.059059,     0.06006,    0.061061,    0.062062,    0.063063,    0.064064,    0.065065,    0.066066,    0.067067,    0.068068,    0.069069,     0.07007,    0.071071,\n",
      "          0.072072,    0.073073,    0.074074,    0.075075,    0.076076,    0.077077,    0.078078,    0.079079,     0.08008,    0.081081,    0.082082,    0.083083,    0.084084,    0.085085,    0.086086,    0.087087,    0.088088,    0.089089,     0.09009,    0.091091,    0.092092,    0.093093,    0.094094,    0.095095,\n",
      "          0.096096,    0.097097,    0.098098,    0.099099,      0.1001,      0.1011,      0.1021,      0.1031,      0.1041,     0.10511,     0.10611,     0.10711,     0.10811,     0.10911,     0.11011,     0.11111,     0.11211,     0.11311,     0.11411,     0.11512,     0.11612,     0.11712,     0.11812,     0.11912,\n",
      "           0.12012,     0.12112,     0.12212,     0.12312,     0.12412,     0.12513,     0.12613,     0.12713,     0.12813,     0.12913,     0.13013,     0.13113,     0.13213,     0.13313,     0.13413,     0.13514,     0.13614,     0.13714,     0.13814,     0.13914,     0.14014,     0.14114,     0.14214,     0.14314,\n",
      "           0.14414,     0.14515,     0.14615,     0.14715,     0.14815,     0.14915,     0.15015,     0.15115,     0.15215,     0.15315,     0.15415,     0.15516,     0.15616,     0.15716,     0.15816,     0.15916,     0.16016,     0.16116,     0.16216,     0.16316,     0.16416,     0.16517,     0.16617,     0.16717,\n",
      "           0.16817,     0.16917,     0.17017,     0.17117,     0.17217,     0.17317,     0.17417,     0.17518,     0.17618,     0.17718,     0.17818,     0.17918,     0.18018,     0.18118,     0.18218,     0.18318,     0.18418,     0.18519,     0.18619,     0.18719,     0.18819,     0.18919,     0.19019,     0.19119,\n",
      "           0.19219,     0.19319,     0.19419,      0.1952,      0.1962,      0.1972,      0.1982,      0.1992,      0.2002,      0.2012,      0.2022,      0.2032,      0.2042,     0.20521,     0.20621,     0.20721,     0.20821,     0.20921,     0.21021,     0.21121,     0.21221,     0.21321,     0.21421,     0.21522,\n",
      "           0.21622,     0.21722,     0.21822,     0.21922,     0.22022,     0.22122,     0.22222,     0.22322,     0.22422,     0.22523,     0.22623,     0.22723,     0.22823,     0.22923,     0.23023,     0.23123,     0.23223,     0.23323,     0.23423,     0.23524,     0.23624,     0.23724,     0.23824,     0.23924,\n",
      "           0.24024,     0.24124,     0.24224,     0.24324,     0.24424,     0.24525,     0.24625,     0.24725,     0.24825,     0.24925,     0.25025,     0.25125,     0.25225,     0.25325,     0.25425,     0.25526,     0.25626,     0.25726,     0.25826,     0.25926,     0.26026,     0.26126,     0.26226,     0.26326,\n",
      "           0.26426,     0.26527,     0.26627,     0.26727,     0.26827,     0.26927,     0.27027,     0.27127,     0.27227,     0.27327,     0.27427,     0.27528,     0.27628,     0.27728,     0.27828,     0.27928,     0.28028,     0.28128,     0.28228,     0.28328,     0.28428,     0.28529,     0.28629,     0.28729,\n",
      "           0.28829,     0.28929,     0.29029,     0.29129,     0.29229,     0.29329,     0.29429,      0.2953,      0.2963,      0.2973,      0.2983,      0.2993,      0.3003,      0.3013,      0.3023,      0.3033,      0.3043,     0.30531,     0.30631,     0.30731,     0.30831,     0.30931,     0.31031,     0.31131,\n",
      "           0.31231,     0.31331,     0.31431,     0.31532,     0.31632,     0.31732,     0.31832,     0.31932,     0.32032,     0.32132,     0.32232,     0.32332,     0.32432,     0.32533,     0.32633,     0.32733,     0.32833,     0.32933,     0.33033,     0.33133,     0.33233,     0.33333,     0.33433,     0.33534,\n",
      "           0.33634,     0.33734,     0.33834,     0.33934,     0.34034,     0.34134,     0.34234,     0.34334,     0.34434,     0.34535,     0.34635,     0.34735,     0.34835,     0.34935,     0.35035,     0.35135,     0.35235,     0.35335,     0.35435,     0.35536,     0.35636,     0.35736,     0.35836,     0.35936,\n",
      "           0.36036,     0.36136,     0.36236,     0.36336,     0.36436,     0.36537,     0.36637,     0.36737,     0.36837,     0.36937,     0.37037,     0.37137,     0.37237,     0.37337,     0.37437,     0.37538,     0.37638,     0.37738,     0.37838,     0.37938,     0.38038,     0.38138,     0.38238,     0.38338,\n",
      "           0.38438,     0.38539,     0.38639,     0.38739,     0.38839,     0.38939,     0.39039,     0.39139,     0.39239,     0.39339,     0.39439,      0.3954,      0.3964,      0.3974,      0.3984,      0.3994,      0.4004,      0.4014,      0.4024,      0.4034,      0.4044,     0.40541,     0.40641,     0.40741,\n",
      "           0.40841,     0.40941,     0.41041,     0.41141,     0.41241,     0.41341,     0.41441,     0.41542,     0.41642,     0.41742,     0.41842,     0.41942,     0.42042,     0.42142,     0.42242,     0.42342,     0.42442,     0.42543,     0.42643,     0.42743,     0.42843,     0.42943,     0.43043,     0.43143,\n",
      "           0.43243,     0.43343,     0.43443,     0.43544,     0.43644,     0.43744,     0.43844,     0.43944,     0.44044,     0.44144,     0.44244,     0.44344,     0.44444,     0.44545,     0.44645,     0.44745,     0.44845,     0.44945,     0.45045,     0.45145,     0.45245,     0.45345,     0.45445,     0.45546,\n",
      "           0.45646,     0.45746,     0.45846,     0.45946,     0.46046,     0.46146,     0.46246,     0.46346,     0.46446,     0.46547,     0.46647,     0.46747,     0.46847,     0.46947,     0.47047,     0.47147,     0.47247,     0.47347,     0.47447,     0.47548,     0.47648,     0.47748,     0.47848,     0.47948,\n",
      "           0.48048,     0.48148,     0.48248,     0.48348,     0.48448,     0.48549,     0.48649,     0.48749,     0.48849,     0.48949,     0.49049,     0.49149,     0.49249,     0.49349,     0.49449,      0.4955,      0.4965,      0.4975,      0.4985,      0.4995,      0.5005,      0.5015,      0.5025,      0.5035,\n",
      "            0.5045,     0.50551,     0.50651,     0.50751,     0.50851,     0.50951,     0.51051,     0.51151,     0.51251,     0.51351,     0.51451,     0.51552,     0.51652,     0.51752,     0.51852,     0.51952,     0.52052,     0.52152,     0.52252,     0.52352,     0.52452,     0.52553,     0.52653,     0.52753,\n",
      "           0.52853,     0.52953,     0.53053,     0.53153,     0.53253,     0.53353,     0.53453,     0.53554,     0.53654,     0.53754,     0.53854,     0.53954,     0.54054,     0.54154,     0.54254,     0.54354,     0.54454,     0.54555,     0.54655,     0.54755,     0.54855,     0.54955,     0.55055,     0.55155,\n",
      "           0.55255,     0.55355,     0.55455,     0.55556,     0.55656,     0.55756,     0.55856,     0.55956,     0.56056,     0.56156,     0.56256,     0.56356,     0.56456,     0.56557,     0.56657,     0.56757,     0.56857,     0.56957,     0.57057,     0.57157,     0.57257,     0.57357,     0.57457,     0.57558,\n",
      "           0.57658,     0.57758,     0.57858,     0.57958,     0.58058,     0.58158,     0.58258,     0.58358,     0.58458,     0.58559,     0.58659,     0.58759,     0.58859,     0.58959,     0.59059,     0.59159,     0.59259,     0.59359,     0.59459,      0.5956,      0.5966,      0.5976,      0.5986,      0.5996,\n",
      "            0.6006,      0.6016,      0.6026,      0.6036,      0.6046,     0.60561,     0.60661,     0.60761,     0.60861,     0.60961,     0.61061,     0.61161,     0.61261,     0.61361,     0.61461,     0.61562,     0.61662,     0.61762,     0.61862,     0.61962,     0.62062,     0.62162,     0.62262,     0.62362,\n",
      "           0.62462,     0.62563,     0.62663,     0.62763,     0.62863,     0.62963,     0.63063,     0.63163,     0.63263,     0.63363,     0.63463,     0.63564,     0.63664,     0.63764,     0.63864,     0.63964,     0.64064,     0.64164,     0.64264,     0.64364,     0.64464,     0.64565,     0.64665,     0.64765,\n",
      "           0.64865,     0.64965,     0.65065,     0.65165,     0.65265,     0.65365,     0.65465,     0.65566,     0.65666,     0.65766,     0.65866,     0.65966,     0.66066,     0.66166,     0.66266,     0.66366,     0.66466,     0.66567,     0.66667,     0.66767,     0.66867,     0.66967,     0.67067,     0.67167,\n",
      "           0.67267,     0.67367,     0.67467,     0.67568,     0.67668,     0.67768,     0.67868,     0.67968,     0.68068,     0.68168,     0.68268,     0.68368,     0.68468,     0.68569,     0.68669,     0.68769,     0.68869,     0.68969,     0.69069,     0.69169,     0.69269,     0.69369,     0.69469,      0.6957,\n",
      "            0.6967,      0.6977,      0.6987,      0.6997,      0.7007,      0.7017,      0.7027,      0.7037,      0.7047,     0.70571,     0.70671,     0.70771,     0.70871,     0.70971,     0.71071,     0.71171,     0.71271,     0.71371,     0.71471,     0.71572,     0.71672,     0.71772,     0.71872,     0.71972,\n",
      "           0.72072,     0.72172,     0.72272,     0.72372,     0.72472,     0.72573,     0.72673,     0.72773,     0.72873,     0.72973,     0.73073,     0.73173,     0.73273,     0.73373,     0.73473,     0.73574,     0.73674,     0.73774,     0.73874,     0.73974,     0.74074,     0.74174,     0.74274,     0.74374,\n",
      "           0.74474,     0.74575,     0.74675,     0.74775,     0.74875,     0.74975,     0.75075,     0.75175,     0.75275,     0.75375,     0.75475,     0.75576,     0.75676,     0.75776,     0.75876,     0.75976,     0.76076,     0.76176,     0.76276,     0.76376,     0.76476,     0.76577,     0.76677,     0.76777,\n",
      "           0.76877,     0.76977,     0.77077,     0.77177,     0.77277,     0.77377,     0.77477,     0.77578,     0.77678,     0.77778,     0.77878,     0.77978,     0.78078,     0.78178,     0.78278,     0.78378,     0.78478,     0.78579,     0.78679,     0.78779,     0.78879,     0.78979,     0.79079,     0.79179,\n",
      "           0.79279,     0.79379,     0.79479,      0.7958,      0.7968,      0.7978,      0.7988,      0.7998,      0.8008,      0.8018,      0.8028,      0.8038,      0.8048,     0.80581,     0.80681,     0.80781,     0.80881,     0.80981,     0.81081,     0.81181,     0.81281,     0.81381,     0.81481,     0.81582,\n",
      "           0.81682,     0.81782,     0.81882,     0.81982,     0.82082,     0.82182,     0.82282,     0.82382,     0.82482,     0.82583,     0.82683,     0.82783,     0.82883,     0.82983,     0.83083,     0.83183,     0.83283,     0.83383,     0.83483,     0.83584,     0.83684,     0.83784,     0.83884,     0.83984,\n",
      "           0.84084,     0.84184,     0.84284,     0.84384,     0.84484,     0.84585,     0.84685,     0.84785,     0.84885,     0.84985,     0.85085,     0.85185,     0.85285,     0.85385,     0.85485,     0.85586,     0.85686,     0.85786,     0.85886,     0.85986,     0.86086,     0.86186,     0.86286,     0.86386,\n",
      "           0.86486,     0.86587,     0.86687,     0.86787,     0.86887,     0.86987,     0.87087,     0.87187,     0.87287,     0.87387,     0.87487,     0.87588,     0.87688,     0.87788,     0.87888,     0.87988,     0.88088,     0.88188,     0.88288,     0.88388,     0.88488,     0.88589,     0.88689,     0.88789,\n",
      "           0.88889,     0.88989,     0.89089,     0.89189,     0.89289,     0.89389,     0.89489,      0.8959,      0.8969,      0.8979,      0.8989,      0.8999,      0.9009,      0.9019,      0.9029,      0.9039,      0.9049,     0.90591,     0.90691,     0.90791,     0.90891,     0.90991,     0.91091,     0.91191,\n",
      "           0.91291,     0.91391,     0.91491,     0.91592,     0.91692,     0.91792,     0.91892,     0.91992,     0.92092,     0.92192,     0.92292,     0.92392,     0.92492,     0.92593,     0.92693,     0.92793,     0.92893,     0.92993,     0.93093,     0.93193,     0.93293,     0.93393,     0.93493,     0.93594,\n",
      "           0.93694,     0.93794,     0.93894,     0.93994,     0.94094,     0.94194,     0.94294,     0.94394,     0.94494,     0.94595,     0.94695,     0.94795,     0.94895,     0.94995,     0.95095,     0.95195,     0.95295,     0.95395,     0.95495,     0.95596,     0.95696,     0.95796,     0.95896,     0.95996,\n",
      "           0.96096,     0.96196,     0.96296,     0.96396,     0.96496,     0.96597,     0.96697,     0.96797,     0.96897,     0.96997,     0.97097,     0.97197,     0.97297,     0.97397,     0.97497,     0.97598,     0.97698,     0.97798,     0.97898,     0.97998,     0.98098,     0.98198,     0.98298,     0.98398,\n",
      "           0.98498,     0.98599,     0.98699,     0.98799,     0.98899,     0.98999,     0.99099,     0.99199,     0.99299,     0.99399,     0.99499,       0.996,       0.997,       0.998,       0.999,           1]), array([[          1,           1,           1,           1,           1,           1,           1,           1,           1,           1,           1,           1,           1,           1,           1,           1,           1,           1,           1,           1,           1,           1,           1,\n",
      "                  1,           1,           1,           1,           1,           1,           1,           1,           1,           1,           1,           1,           1,           1,           1,           1,           1,           1,           1,           1,           1,           1,           1,\n",
      "                  1,           1,           1,           1,           1,           1,           1,           1,           1,           1,           1,           1,           1,           1,           1,           1,           1,           1,           1,           1,           1,           1,           1,\n",
      "                  1,           1,           1,           1,           1,           1,           1,           1,           1,           1,           1,           1,           1,           1,           1,           1,           1,           1,           1,           1,           1,           1,           1,\n",
      "                  1,           1,           1,           1,           1,           1,           1,           1,           1,           1,           1,           1,           1,           1,           1,           1,           1,           1,           1,           1,           1,           1,           1,\n",
      "                  1,           1,           1,           1,           1,           1,           1,           1,           1,           1,           1,           1,           1,           1,           1,           1,           1,           1,           1,           1,           1,           1,           1,\n",
      "                  1,           1,           1,           1,           1,           1,           1,           1,           1,           1,           1,           1,           1,           1,           1,           1,           1,           1,           1,           1,           1,           1,           1,\n",
      "                  1,           1,           1,           1,           1,           1,           1,           1,           1,           1,           1,           1,           1,           1,           1,           1,           1,           1,           1,           1,           1,           1,           1,\n",
      "                  1,           1,           1,           1,           1,           1,           1,           1,           1,           1,           1,           1,           1,           1,           1,           1,           1,           1,           1,           1,           1,           1,           1,\n",
      "                  1,           1,           1,           1,           1,           1,           1,           1,           1,           1,           1,           1,           1,           1,           1,           1,           1,           1,           1,           1,           1,           1,           1,\n",
      "                  1,           1,           1,           1,           1,           1,           1,           1,           1,           1,           1,           1,           1,           1,           1,           1,           1,           1,           1,           1,           1,           1,           1,\n",
      "                  1,           1,           1,           1,           1,           1,           1,           1,           1,           1,           1,           1,           1,           1,           1,           1,           1,           1,           1,           1,           1,           1,           1,\n",
      "                  1,           1,           1,           1,           1,           1,           1,           1,           1,           1,           1,           1,     0.99885,     0.99885,     0.99885,     0.99885,     0.99885,     0.99885,     0.99885,     0.99885,     0.99885,     0.99885,     0.99885,\n",
      "            0.99885,     0.99885,     0.99885,     0.99885,     0.99885,     0.99885,     0.99885,     0.99885,     0.99885,     0.99885,     0.99885,     0.99885,     0.99885,     0.99885,     0.99885,     0.99885,     0.99885,     0.99885,     0.99885,     0.99885,     0.99885,     0.99885,     0.99885,\n",
      "            0.99885,     0.99885,     0.99885,     0.99885,     0.99885,     0.99885,     0.99885,     0.99885,     0.99885,     0.99885,     0.99885,     0.99885,     0.99885,     0.99885,     0.99885,     0.99885,     0.99885,     0.99885,     0.99885,     0.99885,     0.99885,     0.99885,     0.99885,\n",
      "            0.99885,     0.99885,     0.99885,     0.99885,     0.99885,     0.99885,     0.99885,     0.99885,     0.99885,     0.99885,     0.99885,     0.99885,     0.99885,     0.99885,     0.99885,     0.99885,     0.99885,     0.99885,     0.99885,     0.99885,     0.99885,     0.99885,     0.99885,\n",
      "            0.99885,     0.99885,     0.99885,     0.99885,     0.99885,     0.99885,     0.99885,     0.99885,     0.99885,     0.99885,     0.99885,     0.99885,     0.99885,     0.99885,     0.99885,     0.99885,     0.99885,     0.99885,     0.99885,     0.99885,     0.99885,     0.99885,     0.99885,\n",
      "            0.99885,     0.99885,     0.99885,     0.99885,     0.99885,     0.99885,     0.99885,     0.99885,     0.99885,     0.99885,     0.99885,     0.99885,     0.99885,     0.99885,     0.99885,     0.99885,     0.99885,     0.99885,     0.99885,     0.99885,     0.99885,     0.99885,     0.99885,\n",
      "            0.99885,     0.99885,     0.99885,     0.99885,     0.99885,     0.99885,     0.99885,     0.99885,     0.99885,     0.99885,     0.99885,     0.99885,     0.99885,     0.99885,     0.99885,     0.99885,     0.99885,     0.99885,     0.99885,     0.99885,     0.99885,     0.99885,     0.99885,\n",
      "            0.99885,     0.99885,     0.99885,     0.99885,     0.99885,     0.99885,     0.99885,     0.99885,     0.99885,     0.99885,     0.99885,     0.99885,     0.99885,     0.99885,     0.99885,     0.99885,     0.99885,     0.99885,     0.99885,     0.99885,     0.99885,     0.99885,     0.99885,\n",
      "            0.99885,     0.99885,     0.99885,     0.99885,     0.99885,     0.99885,     0.99885,     0.99885,     0.99885,     0.99885,     0.99885,     0.99885,     0.99885,     0.99885,     0.99885,     0.99885,     0.99885,     0.99885,     0.99885,     0.99885,     0.99885,     0.99885,     0.99885,\n",
      "            0.99885,     0.99885,     0.99885,     0.99885,     0.99885,     0.99885,     0.99885,     0.99885,     0.99885,     0.99885,     0.99885,     0.99885,     0.99885,     0.99885,     0.99885,     0.99885,     0.99885,     0.99885,     0.99885,     0.99885,     0.99885,     0.99885,     0.99885,\n",
      "            0.99885,     0.99885,     0.99885,     0.99885,     0.99885,     0.99885,     0.99885,     0.99885,     0.99885,     0.99885,     0.99885,     0.99885,     0.99885,     0.99885,     0.99885,     0.99885,     0.99885,     0.99885,     0.99885,     0.99885,     0.99885,     0.99885,     0.99885,\n",
      "            0.99885,     0.99885,     0.99885,     0.99885,     0.99885,     0.99885,     0.99885,     0.99885,     0.99885,     0.99885,     0.99885,     0.99885,     0.99885,     0.99885,     0.99885,     0.99885,     0.99885,     0.99885,     0.99885,     0.99885,     0.99885,     0.99885,     0.99885,\n",
      "            0.99885,     0.99885,     0.99885,     0.99885,     0.99885,     0.99885,     0.99885,     0.99885,     0.99885,     0.99885,     0.99885,     0.99885,     0.99885,     0.99885,     0.99885,     0.99885,     0.99885,     0.99885,     0.99885,     0.99885,     0.99885,     0.99885,     0.99885,\n",
      "            0.99885,     0.99885,     0.99885,     0.99885,     0.99885,     0.99885,     0.99885,     0.99885,     0.99885,     0.99885,     0.99885,     0.99885,     0.99885,     0.99885,     0.99885,     0.99885,     0.99885,     0.99885,     0.99885,     0.99885,     0.99885,     0.99885,     0.99885,\n",
      "            0.99885,     0.99885,     0.99885,     0.99885,     0.99885,     0.99885,     0.99885,     0.99885,     0.99885,     0.99885,     0.99885,     0.99885,     0.99885,     0.99885,     0.99885,     0.99885,     0.99885,     0.99885,     0.99885,     0.99885,     0.99885,     0.99885,     0.99885,\n",
      "            0.99885,     0.99885,     0.99885,     0.99885,     0.99885,     0.99885,     0.99885,     0.99885,     0.99885,     0.99885,     0.99885,     0.99885,     0.99885,     0.99885,     0.99885,     0.99885,     0.99885,     0.99885,     0.99885,     0.99885,     0.99885,     0.99885,     0.99885,\n",
      "            0.99885,     0.99885,     0.99885,     0.99885,     0.99885,     0.99885,     0.99885,     0.99885,     0.99885,     0.99885,     0.99885,     0.99885,     0.99885,     0.99885,     0.99885,     0.99885,     0.99885,     0.99885,     0.99885,     0.99885,     0.99885,     0.99885,     0.99885,\n",
      "            0.99885,     0.99885,     0.99885,     0.99885,     0.99885,     0.99885,     0.99885,     0.99885,     0.99885,     0.99885,     0.99885,     0.99885,     0.99885,     0.99885,     0.99885,     0.99885,     0.99885,     0.99885,     0.99885,     0.99885,     0.99885,     0.99885,     0.99885,\n",
      "            0.99885,     0.99885,     0.99885,     0.99885,     0.99885,     0.99885,     0.99885,     0.99885,     0.99885,     0.99885,     0.99885,     0.99885,     0.99885,     0.99885,     0.99885,     0.99885,     0.99885,     0.99885,     0.99885,     0.99885,     0.99885,     0.99885,     0.99885,\n",
      "            0.99885,     0.99885,     0.99885,     0.99885,     0.99885,     0.99885,     0.99885,     0.99885,     0.99885,     0.99885,     0.99885,     0.99885,     0.99885,     0.99885,     0.99885,     0.99885,     0.99885,     0.99885,     0.99885,     0.99885,     0.99885,     0.99885,     0.99885,\n",
      "            0.99885,     0.99885,     0.99885,     0.99885,     0.99885,     0.99885,     0.99885,     0.99885,     0.99885,     0.99885,     0.99885,     0.99885,     0.99885,     0.99885,     0.99885,     0.99885,     0.99885,     0.99885,     0.99885,     0.99885,     0.99885,     0.99885,     0.99885,\n",
      "            0.99885,     0.99885,     0.99885,     0.99885,     0.99885,     0.99885,     0.99885,     0.99885,     0.99885,     0.99885,     0.99885,     0.99885,     0.99885,     0.99885,     0.99885,     0.99885,     0.99885,     0.99885,     0.99885,     0.99885,     0.99885,     0.99885,     0.99885,\n",
      "            0.99885,     0.99885,     0.99885,     0.99885,     0.99885,     0.99885,     0.99885,     0.99885,     0.99885,     0.99885,     0.99885,     0.99885,     0.99885,     0.99885,     0.99885,     0.99885,     0.99885,     0.99795,     0.99795,     0.99795,     0.99795,     0.99795,     0.99795,\n",
      "            0.99795,     0.99795,     0.99795,     0.99795,     0.99795,     0.99795,     0.99795,     0.99795,     0.99795,     0.99795,     0.99795,     0.99795,     0.99795,     0.99795,     0.99795,     0.99795,     0.99795,     0.99795,     0.99795,     0.99795,     0.99795,     0.99795,     0.99795,\n",
      "            0.99795,     0.99795,     0.99795,     0.99795,     0.99795,     0.99795,     0.99795,     0.99795,     0.99795,     0.99795,     0.99795,     0.99795,     0.99795,     0.99795,     0.99795,     0.99795,     0.99795,     0.99795,     0.99795,     0.99795,     0.99795,     0.99795,     0.99795,\n",
      "            0.99795,     0.99795,     0.99795,     0.99795,     0.99795,     0.99795,     0.99795,     0.99795,     0.99795,     0.99795,     0.99795,     0.99795,     0.99795,     0.99795,     0.99795,     0.99795,     0.99795,     0.99795,     0.99795,     0.99795,     0.99795,     0.99795,     0.99795,\n",
      "            0.99795,     0.99795,     0.99795,     0.99795,     0.99795,     0.99795,     0.99795,     0.99795,     0.99795,     0.99795,     0.99795,     0.99795,     0.99795,     0.99795,     0.99795,     0.99795,     0.99795,     0.99795,     0.99795,     0.99795,     0.99795,     0.99795,     0.99593,\n",
      "            0.99593,     0.99593,     0.99593,     0.99593,     0.99493,     0.99493,     0.99493,     0.99394,     0.99394,     0.99394,     0.99295,     0.99198,     0.99198,     0.99198,     0.99198,     0.99104,     0.99104,     0.99104,     0.99104,     0.99104,     0.98911,     0.98911,     0.98911,\n",
      "            0.98717,     0.98621,     0.98527,     0.98527,     0.98431,     0.98337,     0.98146,     0.98056,     0.98056,     0.98056,     0.97965,     0.97874,     0.97874,     0.97786,     0.97786,     0.97786,     0.97703,     0.97703,     0.97703,     0.97703,     0.97703,     0.97431,     0.97431,\n",
      "            0.97073,     0.97073,     0.97073,     0.97073,     0.94404,     0.89255,     0.88726,      0.8799,      0.8799,     0.85667,     0.84091,     0.83494,     0.82775,     0.82657,     0.79572,     0.79103,     0.76957,     0.76861,     0.73729,     0.69806,     0.66582,     0.62321,     0.59909,\n",
      "            0.57597,     0.54768,     0.54395,     0.51744,     0.45411,     0.44817,     0.39315,     0.30639,     0.29461,     0.28283,     0.27104,     0.25926,     0.24747,     0.23569,      0.2239,     0.21212,     0.20034,     0.18855,     0.17677,     0.16498,      0.1532,     0.14141,     0.12963,\n",
      "            0.11784,     0.10606,    0.094275,    0.082491,    0.070707,    0.058922,    0.047138,    0.035353,    0.023569,    0.011784,           0]]), 'Recall', 'Precision'], [array([          0,    0.001001,    0.002002,    0.003003,    0.004004,    0.005005,    0.006006,    0.007007,    0.008008,    0.009009,     0.01001,    0.011011,    0.012012,    0.013013,    0.014014,    0.015015,    0.016016,    0.017017,    0.018018,    0.019019,     0.02002,    0.021021,    0.022022,    0.023023,\n",
      "          0.024024,    0.025025,    0.026026,    0.027027,    0.028028,    0.029029,     0.03003,    0.031031,    0.032032,    0.033033,    0.034034,    0.035035,    0.036036,    0.037037,    0.038038,    0.039039,     0.04004,    0.041041,    0.042042,    0.043043,    0.044044,    0.045045,    0.046046,    0.047047,\n",
      "          0.048048,    0.049049,     0.05005,    0.051051,    0.052052,    0.053053,    0.054054,    0.055055,    0.056056,    0.057057,    0.058058,    0.059059,     0.06006,    0.061061,    0.062062,    0.063063,    0.064064,    0.065065,    0.066066,    0.067067,    0.068068,    0.069069,     0.07007,    0.071071,\n",
      "          0.072072,    0.073073,    0.074074,    0.075075,    0.076076,    0.077077,    0.078078,    0.079079,     0.08008,    0.081081,    0.082082,    0.083083,    0.084084,    0.085085,    0.086086,    0.087087,    0.088088,    0.089089,     0.09009,    0.091091,    0.092092,    0.093093,    0.094094,    0.095095,\n",
      "          0.096096,    0.097097,    0.098098,    0.099099,      0.1001,      0.1011,      0.1021,      0.1031,      0.1041,     0.10511,     0.10611,     0.10711,     0.10811,     0.10911,     0.11011,     0.11111,     0.11211,     0.11311,     0.11411,     0.11512,     0.11612,     0.11712,     0.11812,     0.11912,\n",
      "           0.12012,     0.12112,     0.12212,     0.12312,     0.12412,     0.12513,     0.12613,     0.12713,     0.12813,     0.12913,     0.13013,     0.13113,     0.13213,     0.13313,     0.13413,     0.13514,     0.13614,     0.13714,     0.13814,     0.13914,     0.14014,     0.14114,     0.14214,     0.14314,\n",
      "           0.14414,     0.14515,     0.14615,     0.14715,     0.14815,     0.14915,     0.15015,     0.15115,     0.15215,     0.15315,     0.15415,     0.15516,     0.15616,     0.15716,     0.15816,     0.15916,     0.16016,     0.16116,     0.16216,     0.16316,     0.16416,     0.16517,     0.16617,     0.16717,\n",
      "           0.16817,     0.16917,     0.17017,     0.17117,     0.17217,     0.17317,     0.17417,     0.17518,     0.17618,     0.17718,     0.17818,     0.17918,     0.18018,     0.18118,     0.18218,     0.18318,     0.18418,     0.18519,     0.18619,     0.18719,     0.18819,     0.18919,     0.19019,     0.19119,\n",
      "           0.19219,     0.19319,     0.19419,      0.1952,      0.1962,      0.1972,      0.1982,      0.1992,      0.2002,      0.2012,      0.2022,      0.2032,      0.2042,     0.20521,     0.20621,     0.20721,     0.20821,     0.20921,     0.21021,     0.21121,     0.21221,     0.21321,     0.21421,     0.21522,\n",
      "           0.21622,     0.21722,     0.21822,     0.21922,     0.22022,     0.22122,     0.22222,     0.22322,     0.22422,     0.22523,     0.22623,     0.22723,     0.22823,     0.22923,     0.23023,     0.23123,     0.23223,     0.23323,     0.23423,     0.23524,     0.23624,     0.23724,     0.23824,     0.23924,\n",
      "           0.24024,     0.24124,     0.24224,     0.24324,     0.24424,     0.24525,     0.24625,     0.24725,     0.24825,     0.24925,     0.25025,     0.25125,     0.25225,     0.25325,     0.25425,     0.25526,     0.25626,     0.25726,     0.25826,     0.25926,     0.26026,     0.26126,     0.26226,     0.26326,\n",
      "           0.26426,     0.26527,     0.26627,     0.26727,     0.26827,     0.26927,     0.27027,     0.27127,     0.27227,     0.27327,     0.27427,     0.27528,     0.27628,     0.27728,     0.27828,     0.27928,     0.28028,     0.28128,     0.28228,     0.28328,     0.28428,     0.28529,     0.28629,     0.28729,\n",
      "           0.28829,     0.28929,     0.29029,     0.29129,     0.29229,     0.29329,     0.29429,      0.2953,      0.2963,      0.2973,      0.2983,      0.2993,      0.3003,      0.3013,      0.3023,      0.3033,      0.3043,     0.30531,     0.30631,     0.30731,     0.30831,     0.30931,     0.31031,     0.31131,\n",
      "           0.31231,     0.31331,     0.31431,     0.31532,     0.31632,     0.31732,     0.31832,     0.31932,     0.32032,     0.32132,     0.32232,     0.32332,     0.32432,     0.32533,     0.32633,     0.32733,     0.32833,     0.32933,     0.33033,     0.33133,     0.33233,     0.33333,     0.33433,     0.33534,\n",
      "           0.33634,     0.33734,     0.33834,     0.33934,     0.34034,     0.34134,     0.34234,     0.34334,     0.34434,     0.34535,     0.34635,     0.34735,     0.34835,     0.34935,     0.35035,     0.35135,     0.35235,     0.35335,     0.35435,     0.35536,     0.35636,     0.35736,     0.35836,     0.35936,\n",
      "           0.36036,     0.36136,     0.36236,     0.36336,     0.36436,     0.36537,     0.36637,     0.36737,     0.36837,     0.36937,     0.37037,     0.37137,     0.37237,     0.37337,     0.37437,     0.37538,     0.37638,     0.37738,     0.37838,     0.37938,     0.38038,     0.38138,     0.38238,     0.38338,\n",
      "           0.38438,     0.38539,     0.38639,     0.38739,     0.38839,     0.38939,     0.39039,     0.39139,     0.39239,     0.39339,     0.39439,      0.3954,      0.3964,      0.3974,      0.3984,      0.3994,      0.4004,      0.4014,      0.4024,      0.4034,      0.4044,     0.40541,     0.40641,     0.40741,\n",
      "           0.40841,     0.40941,     0.41041,     0.41141,     0.41241,     0.41341,     0.41441,     0.41542,     0.41642,     0.41742,     0.41842,     0.41942,     0.42042,     0.42142,     0.42242,     0.42342,     0.42442,     0.42543,     0.42643,     0.42743,     0.42843,     0.42943,     0.43043,     0.43143,\n",
      "           0.43243,     0.43343,     0.43443,     0.43544,     0.43644,     0.43744,     0.43844,     0.43944,     0.44044,     0.44144,     0.44244,     0.44344,     0.44444,     0.44545,     0.44645,     0.44745,     0.44845,     0.44945,     0.45045,     0.45145,     0.45245,     0.45345,     0.45445,     0.45546,\n",
      "           0.45646,     0.45746,     0.45846,     0.45946,     0.46046,     0.46146,     0.46246,     0.46346,     0.46446,     0.46547,     0.46647,     0.46747,     0.46847,     0.46947,     0.47047,     0.47147,     0.47247,     0.47347,     0.47447,     0.47548,     0.47648,     0.47748,     0.47848,     0.47948,\n",
      "           0.48048,     0.48148,     0.48248,     0.48348,     0.48448,     0.48549,     0.48649,     0.48749,     0.48849,     0.48949,     0.49049,     0.49149,     0.49249,     0.49349,     0.49449,      0.4955,      0.4965,      0.4975,      0.4985,      0.4995,      0.5005,      0.5015,      0.5025,      0.5035,\n",
      "            0.5045,     0.50551,     0.50651,     0.50751,     0.50851,     0.50951,     0.51051,     0.51151,     0.51251,     0.51351,     0.51451,     0.51552,     0.51652,     0.51752,     0.51852,     0.51952,     0.52052,     0.52152,     0.52252,     0.52352,     0.52452,     0.52553,     0.52653,     0.52753,\n",
      "           0.52853,     0.52953,     0.53053,     0.53153,     0.53253,     0.53353,     0.53453,     0.53554,     0.53654,     0.53754,     0.53854,     0.53954,     0.54054,     0.54154,     0.54254,     0.54354,     0.54454,     0.54555,     0.54655,     0.54755,     0.54855,     0.54955,     0.55055,     0.55155,\n",
      "           0.55255,     0.55355,     0.55455,     0.55556,     0.55656,     0.55756,     0.55856,     0.55956,     0.56056,     0.56156,     0.56256,     0.56356,     0.56456,     0.56557,     0.56657,     0.56757,     0.56857,     0.56957,     0.57057,     0.57157,     0.57257,     0.57357,     0.57457,     0.57558,\n",
      "           0.57658,     0.57758,     0.57858,     0.57958,     0.58058,     0.58158,     0.58258,     0.58358,     0.58458,     0.58559,     0.58659,     0.58759,     0.58859,     0.58959,     0.59059,     0.59159,     0.59259,     0.59359,     0.59459,      0.5956,      0.5966,      0.5976,      0.5986,      0.5996,\n",
      "            0.6006,      0.6016,      0.6026,      0.6036,      0.6046,     0.60561,     0.60661,     0.60761,     0.60861,     0.60961,     0.61061,     0.61161,     0.61261,     0.61361,     0.61461,     0.61562,     0.61662,     0.61762,     0.61862,     0.61962,     0.62062,     0.62162,     0.62262,     0.62362,\n",
      "           0.62462,     0.62563,     0.62663,     0.62763,     0.62863,     0.62963,     0.63063,     0.63163,     0.63263,     0.63363,     0.63463,     0.63564,     0.63664,     0.63764,     0.63864,     0.63964,     0.64064,     0.64164,     0.64264,     0.64364,     0.64464,     0.64565,     0.64665,     0.64765,\n",
      "           0.64865,     0.64965,     0.65065,     0.65165,     0.65265,     0.65365,     0.65465,     0.65566,     0.65666,     0.65766,     0.65866,     0.65966,     0.66066,     0.66166,     0.66266,     0.66366,     0.66466,     0.66567,     0.66667,     0.66767,     0.66867,     0.66967,     0.67067,     0.67167,\n",
      "           0.67267,     0.67367,     0.67467,     0.67568,     0.67668,     0.67768,     0.67868,     0.67968,     0.68068,     0.68168,     0.68268,     0.68368,     0.68468,     0.68569,     0.68669,     0.68769,     0.68869,     0.68969,     0.69069,     0.69169,     0.69269,     0.69369,     0.69469,      0.6957,\n",
      "            0.6967,      0.6977,      0.6987,      0.6997,      0.7007,      0.7017,      0.7027,      0.7037,      0.7047,     0.70571,     0.70671,     0.70771,     0.70871,     0.70971,     0.71071,     0.71171,     0.71271,     0.71371,     0.71471,     0.71572,     0.71672,     0.71772,     0.71872,     0.71972,\n",
      "           0.72072,     0.72172,     0.72272,     0.72372,     0.72472,     0.72573,     0.72673,     0.72773,     0.72873,     0.72973,     0.73073,     0.73173,     0.73273,     0.73373,     0.73473,     0.73574,     0.73674,     0.73774,     0.73874,     0.73974,     0.74074,     0.74174,     0.74274,     0.74374,\n",
      "           0.74474,     0.74575,     0.74675,     0.74775,     0.74875,     0.74975,     0.75075,     0.75175,     0.75275,     0.75375,     0.75475,     0.75576,     0.75676,     0.75776,     0.75876,     0.75976,     0.76076,     0.76176,     0.76276,     0.76376,     0.76476,     0.76577,     0.76677,     0.76777,\n",
      "           0.76877,     0.76977,     0.77077,     0.77177,     0.77277,     0.77377,     0.77477,     0.77578,     0.77678,     0.77778,     0.77878,     0.77978,     0.78078,     0.78178,     0.78278,     0.78378,     0.78478,     0.78579,     0.78679,     0.78779,     0.78879,     0.78979,     0.79079,     0.79179,\n",
      "           0.79279,     0.79379,     0.79479,      0.7958,      0.7968,      0.7978,      0.7988,      0.7998,      0.8008,      0.8018,      0.8028,      0.8038,      0.8048,     0.80581,     0.80681,     0.80781,     0.80881,     0.80981,     0.81081,     0.81181,     0.81281,     0.81381,     0.81481,     0.81582,\n",
      "           0.81682,     0.81782,     0.81882,     0.81982,     0.82082,     0.82182,     0.82282,     0.82382,     0.82482,     0.82583,     0.82683,     0.82783,     0.82883,     0.82983,     0.83083,     0.83183,     0.83283,     0.83383,     0.83483,     0.83584,     0.83684,     0.83784,     0.83884,     0.83984,\n",
      "           0.84084,     0.84184,     0.84284,     0.84384,     0.84484,     0.84585,     0.84685,     0.84785,     0.84885,     0.84985,     0.85085,     0.85185,     0.85285,     0.85385,     0.85485,     0.85586,     0.85686,     0.85786,     0.85886,     0.85986,     0.86086,     0.86186,     0.86286,     0.86386,\n",
      "           0.86486,     0.86587,     0.86687,     0.86787,     0.86887,     0.86987,     0.87087,     0.87187,     0.87287,     0.87387,     0.87487,     0.87588,     0.87688,     0.87788,     0.87888,     0.87988,     0.88088,     0.88188,     0.88288,     0.88388,     0.88488,     0.88589,     0.88689,     0.88789,\n",
      "           0.88889,     0.88989,     0.89089,     0.89189,     0.89289,     0.89389,     0.89489,      0.8959,      0.8969,      0.8979,      0.8989,      0.8999,      0.9009,      0.9019,      0.9029,      0.9039,      0.9049,     0.90591,     0.90691,     0.90791,     0.90891,     0.90991,     0.91091,     0.91191,\n",
      "           0.91291,     0.91391,     0.91491,     0.91592,     0.91692,     0.91792,     0.91892,     0.91992,     0.92092,     0.92192,     0.92292,     0.92392,     0.92492,     0.92593,     0.92693,     0.92793,     0.92893,     0.92993,     0.93093,     0.93193,     0.93293,     0.93393,     0.93493,     0.93594,\n",
      "           0.93694,     0.93794,     0.93894,     0.93994,     0.94094,     0.94194,     0.94294,     0.94394,     0.94494,     0.94595,     0.94695,     0.94795,     0.94895,     0.94995,     0.95095,     0.95195,     0.95295,     0.95395,     0.95495,     0.95596,     0.95696,     0.95796,     0.95896,     0.95996,\n",
      "           0.96096,     0.96196,     0.96296,     0.96396,     0.96496,     0.96597,     0.96697,     0.96797,     0.96897,     0.96997,     0.97097,     0.97197,     0.97297,     0.97397,     0.97497,     0.97598,     0.97698,     0.97798,     0.97898,     0.97998,     0.98098,     0.98198,     0.98298,     0.98398,\n",
      "           0.98498,     0.98599,     0.98699,     0.98799,     0.98899,     0.98999,     0.99099,     0.99199,     0.99299,     0.99399,     0.99499,       0.996,       0.997,       0.998,       0.999,           1]), array([[    0.47557,     0.47583,     0.59222,     0.65388,     0.69938,     0.73224,       0.751,     0.76758,     0.78234,     0.79042,     0.79945,     0.80912,     0.81699,     0.82474,     0.83141,     0.83814,     0.84233,     0.84741,     0.85192,      0.8552,     0.85969,     0.86348,     0.86652,\n",
      "            0.86921,      0.8746,     0.87791,      0.8811,     0.88324,     0.88564,     0.88724,      0.8871,     0.88913,     0.89071,     0.89091,     0.89168,     0.89265,     0.89358,     0.89517,     0.89686,     0.89913,     0.90072,     0.90224,     0.90242,      0.9032,     0.90421,     0.90578,\n",
      "            0.90686,     0.90806,     0.91032,     0.91064,     0.91093,     0.91185,     0.91379,     0.91447,      0.9136,      0.9145,     0.91583,     0.91691,     0.91738,     0.91726,     0.91905,     0.91972,     0.91962,     0.92044,     0.92056,     0.92067,     0.92079,     0.92105,     0.92138,\n",
      "            0.92188,     0.92294,     0.92325,     0.92365,     0.92466,      0.9252,     0.92547,     0.92563,     0.92582,     0.92638,     0.92713,     0.92736,     0.92752,     0.92762,     0.92773,     0.92784,     0.92834,     0.92844,     0.92853,     0.92862,     0.92882,      0.9293,     0.92961,\n",
      "             0.9299,     0.93023,     0.93056,     0.93143,      0.9324,     0.93282,     0.93353,      0.9338,     0.93394,     0.93408,     0.93446,     0.93505,     0.93534,     0.93653,      0.9372,     0.93764,     0.93801,     0.93866,     0.93951,     0.94062,     0.94086,     0.94108,     0.94124,\n",
      "             0.9414,     0.94159,     0.94178,     0.94219,     0.94309,      0.9433,     0.94345,      0.9436,     0.94417,     0.94451,     0.94463,     0.94475,     0.94486,     0.94505,     0.94529,     0.94545,     0.94559,     0.94573,     0.94591,      0.9461,     0.94607,     0.94576,     0.94619,\n",
      "            0.94625,     0.94631,     0.94637,     0.94644,      0.9465,     0.94656,     0.94752,     0.94766,     0.94781,     0.94805,     0.94837,     0.94845,     0.94854,     0.94863,     0.94871,     0.94887,     0.94922,     0.94946,     0.94967,      0.9498,     0.94992,     0.95004,     0.95015,\n",
      "            0.95026,     0.95036,     0.95046,     0.95058,     0.95075,     0.95091,     0.95108,     0.95126,     0.95144,     0.95168,     0.95201,     0.95251,     0.95278,     0.95287,     0.95297,     0.95307,     0.95317,     0.95336,     0.95356,     0.95372,     0.95386,       0.954,      0.9541,\n",
      "            0.95417,     0.95424,      0.9543,     0.95437,     0.95444,     0.95453,     0.95479,     0.95497,     0.95503,     0.95509,     0.95515,     0.95521,     0.95527,     0.95533,     0.95539,     0.95543,     0.95547,     0.95551,     0.95555,      0.9556,     0.95564,     0.95568,     0.95572,\n",
      "            0.95576,      0.9558,     0.95587,     0.95601,     0.95614,     0.95673,     0.95693,     0.95714,      0.9572,     0.95723,     0.95726,      0.9573,     0.95733,     0.95736,      0.9574,     0.95743,     0.95746,      0.9575,     0.95753,     0.95756,      0.9576,     0.95768,     0.95785,\n",
      "            0.95801,     0.95838,     0.95856,     0.95864,     0.95871,     0.95878,     0.95886,     0.95893,     0.95881,     0.95859,     0.95797,     0.95794,     0.95791,     0.95788,     0.95785,     0.95782,     0.95779,     0.95776,     0.95773,     0.95769,     0.95766,     0.95763,      0.9576,\n",
      "            0.95757,     0.95754,     0.95751,      0.9574,     0.95725,      0.9571,     0.95702,     0.95705,     0.95709,     0.95712,     0.95715,     0.95718,     0.95721,     0.95724,     0.95727,     0.95731,     0.95734,     0.95737,      0.9574,     0.95743,     0.95748,     0.95756,     0.95764,\n",
      "            0.95772,      0.9578,     0.95788,     0.95793,     0.95795,     0.95798,     0.95801,     0.95804,     0.95807,      0.9581,     0.95813,     0.95816,     0.95819,     0.95822,     0.95824,     0.95827,      0.9583,     0.95833,     0.95838,     0.95849,      0.9586,     0.95871,     0.95879,\n",
      "            0.95871,     0.95863,     0.95855,     0.95846,     0.95838,      0.9583,     0.95823,     0.95816,     0.95809,     0.95801,     0.95794,     0.95787,     0.95785,      0.9579,     0.95795,       0.958,     0.95805,     0.95811,     0.95816,     0.95821,     0.95826,     0.95839,     0.95855,\n",
      "            0.95871,     0.95861,     0.95847,     0.95834,     0.95824,     0.95829,     0.95833,     0.95838,     0.95842,     0.95847,     0.95851,     0.95856,      0.9586,     0.95865,     0.95868,     0.95862,     0.95856,     0.95849,     0.95843,     0.95837,     0.95831,     0.95825,     0.95819,\n",
      "            0.95815,      0.9581,     0.95806,     0.95801,     0.95797,     0.95792,     0.95788,     0.95783,     0.95779,     0.95774,     0.95769,     0.95763,     0.95756,      0.9575,     0.95743,     0.95737,      0.9573,     0.95724,     0.95717,     0.95711,     0.95704,     0.95698,     0.95691,\n",
      "            0.95685,     0.95678,     0.95672,      0.9567,     0.95669,     0.95667,     0.95665,     0.95663,     0.95661,     0.95659,     0.95657,     0.95655,     0.95653,     0.95651,     0.95649,     0.95647,     0.95645,     0.95643,     0.95641,     0.95639,     0.95637,     0.95636,     0.95634,\n",
      "            0.95632,      0.9563,     0.95628,     0.95626,     0.95624,     0.95629,     0.95635,     0.95642,     0.95648,     0.95655,     0.95661,     0.95668,     0.95651,      0.9563,     0.95616,     0.95611,     0.95605,     0.95599,     0.95594,     0.95588,     0.95582,     0.95576,     0.95571,\n",
      "            0.95554,     0.95535,     0.95527,     0.95551,     0.95518,     0.95508,     0.95499,      0.9549,     0.95482,     0.95473,     0.95477,     0.95503,     0.95503,     0.95486,      0.9547,     0.95454,     0.95439,     0.95424,     0.95419,     0.95437,     0.95455,      0.9545,     0.95438,\n",
      "            0.95427,     0.95415,     0.95398,     0.95377,     0.95356,     0.95338,      0.9532,     0.95312,     0.95316,      0.9532,     0.95324,     0.95328,     0.95332,     0.95336,     0.95339,     0.95343,     0.95347,     0.95351,     0.95355,     0.95308,     0.95311,     0.95317,     0.95322,\n",
      "            0.95328,     0.95333,     0.95339,     0.95344,      0.9535,     0.95364,     0.95381,     0.95396,     0.95393,     0.95389,     0.95386,     0.95383,     0.95379,     0.95376,     0.95373,     0.95369,     0.95366,     0.95363,      0.9536,     0.95356,     0.95353,      0.9535,     0.95348,\n",
      "            0.95358,     0.95369,     0.95379,      0.9539,      0.9538,     0.95364,     0.95349,     0.95346,     0.95354,     0.95361,     0.95368,     0.95375,     0.95382,     0.95386,     0.95379,     0.95371,     0.95363,     0.95356,     0.95348,     0.95341,     0.95288,     0.95293,     0.95297,\n",
      "            0.95302,     0.95306,     0.95311,     0.95315,      0.9532,     0.95325,     0.95329,     0.95332,     0.95316,     0.95299,     0.95284,     0.95295,     0.95305,     0.95316,     0.95326,     0.95295,     0.95347,     0.95363,     0.95353,     0.95343,     0.95333,     0.95322,     0.95305,\n",
      "            0.95285,     0.95266,     0.95249,     0.95231,     0.95213,     0.95194,     0.95174,     0.95174,     0.95179,     0.95185,      0.9519,     0.95195,     0.95201,     0.95206,     0.95212,      0.9522,     0.95234,     0.95248,     0.95251,     0.95153,      0.9513,     0.95102,     0.95047,\n",
      "            0.95016,     0.95011,     0.95013,     0.95016,     0.95018,      0.9502,     0.95022,     0.95024,     0.95026,     0.95028,     0.95031,     0.95033,     0.95035,     0.95037,     0.95039,     0.95041,     0.95043,     0.95046,     0.95048,      0.9505,     0.95052,     0.95054,     0.95006,\n",
      "            0.94982,     0.94959,     0.94952,     0.94949,     0.94946,     0.94942,     0.94939,     0.94936,     0.94933,      0.9493,     0.94927,     0.94924,     0.94921,     0.94917,     0.94914,     0.94911,     0.94908,     0.94905,     0.94896,     0.94884,     0.94872,      0.9486,     0.94886,\n",
      "            0.94894,     0.94888,     0.94882,     0.94877,     0.94871,     0.94865,     0.94859,     0.94853,     0.94805,     0.94741,     0.94732,     0.94724,     0.94715,     0.94707,     0.94698,     0.94699,     0.94675,     0.94593,     0.94605,     0.94629,     0.94575,     0.94529,     0.94469,\n",
      "            0.94461,     0.94452,     0.94443,     0.94434,     0.94382,     0.94451,     0.94408,     0.94376,     0.94309,       0.943,     0.94291,     0.94282,     0.94273,     0.94263,     0.94246,     0.94225,     0.94201,     0.94167,     0.94126,     0.94059,     0.94033,      0.9401,     0.93921,\n",
      "            0.93825,     0.93616,     0.93512,     0.93401,     0.93346,     0.93232,     0.93132,     0.93071,     0.93029,     0.93001,     0.92982,     0.92963,     0.92896,     0.92873,     0.92837,     0.92768,     0.92672,     0.92521,     0.92453,      0.9239,     0.92312,     0.92177,     0.92135,\n",
      "            0.92106,     0.92087,     0.92068,      0.9198,     0.91882,     0.91832,     0.91578,     0.91455,     0.91423,     0.91387,      0.9134,     0.91225,      0.9115,     0.91048,     0.90854,     0.90741,     0.90687,     0.90621,     0.90577,     0.90537,     0.90439,     0.90174,     0.90007,\n",
      "            0.89905,     0.89874,      0.8979,     0.89717,     0.89635,       0.896,     0.89484,     0.89347,     0.89309,     0.89243,     0.89107,     0.88964,     0.88741,     0.88696,     0.88634,     0.88387,     0.88211,      0.8806,     0.87926,     0.87894,     0.87857,     0.87748,     0.87629,\n",
      "            0.87466,     0.87312,     0.87213,     0.87139,        0.87,     0.86923,     0.86902,     0.86882,      0.8678,     0.86606,      0.8629,     0.86117,     0.85973,     0.85738,     0.85471,     0.85144,     0.84901,     0.84789,     0.84497,     0.84301,     0.84124,     0.83795,     0.83605,\n",
      "            0.83286,     0.83183,     0.82923,     0.82562,     0.82331,     0.82143,     0.81751,     0.81349,     0.80918,     0.80393,     0.80013,     0.79684,     0.79119,     0.78573,     0.77702,     0.77177,     0.76812,     0.76331,     0.75927,     0.75366,     0.75074,     0.74648,     0.74095,\n",
      "            0.73274,      0.7293,     0.72131,     0.71588,     0.70632,     0.69852,     0.69161,     0.68655,     0.67847,     0.67063,     0.66595,     0.66158,     0.65468,     0.64699,     0.64047,     0.63287,     0.62511,     0.61816,     0.61659,       0.607,     0.60261,     0.59506,     0.59064,\n",
      "            0.58689,     0.57838,      0.5684,      0.5634,     0.56058,     0.55824,     0.55467,     0.55073,     0.54768,     0.54302,     0.53697,     0.53403,      0.5298,     0.52847,     0.52539,     0.52156,     0.51869,     0.51668,     0.51185,     0.50872,     0.50561,     0.50194,     0.50095,\n",
      "            0.49988,     0.49818,     0.49471,       0.494,     0.48912,     0.48653,     0.48295,      0.4804,      0.4757,     0.47508,     0.47437,     0.47208,     0.47056,     0.46935,      0.4659,      0.4652,     0.46208,     0.45618,     0.45394,     0.45008,     0.44861,     0.44651,     0.44383,\n",
      "             0.4419,     0.44054,     0.43788,     0.43689,     0.43618,     0.43557,      0.4331,      0.4325,     0.43185,     0.43103,     0.42904,     0.42626,     0.42255,     0.42139,     0.41978,     0.41878,     0.41762,     0.41406,     0.41167,     0.41057,     0.40659,     0.40313,     0.40123,\n",
      "            0.39884,     0.39771,     0.39323,     0.38873,     0.38473,     0.38307,     0.38204,     0.37899,     0.37486,     0.37072,     0.36871,     0.36508,     0.36362,     0.36136,     0.35553,     0.34721,     0.34019,     0.33489,     0.32917,     0.32362,      0.3218,     0.31245,      0.3081,\n",
      "            0.29799,     0.28918,     0.28227,     0.26952,     0.25715,     0.24007,     0.22748,     0.21627,     0.20872,     0.19691,     0.18946,     0.17588,     0.16799,      0.1652,     0.15901,     0.14981,     0.13835,     0.12641,     0.11657,      0.1116,      0.1043,     0.10035,    0.095225,\n",
      "           0.090737,    0.085978,    0.084196,    0.082774,     0.08118,     0.07871,    0.074267,    0.070934,    0.068071,    0.066391,    0.062968,    0.060118,    0.058772,    0.057706,    0.057198,     0.05704,    0.056881,    0.056722,    0.056562,    0.056403,    0.056244,    0.056085,    0.055926,\n",
      "           0.055767,    0.055608,    0.055503,    0.055425,    0.055346,    0.055268,     0.05519,    0.055112,    0.055033,    0.054955,    0.054877,    0.054799,     0.05472,    0.054642,    0.054564,    0.054485,    0.054407,    0.054329,     0.05425,    0.054172,    0.054094,    0.054015,    0.053937,\n",
      "           0.053859,    0.053703,    0.053432,    0.053162,    0.052891,     0.05262,    0.052349,    0.052078,    0.050807,    0.050229,    0.050093,    0.049957,     0.04982,    0.049684,    0.049548,    0.049412,    0.049275,    0.049139,    0.049003,    0.048866,     0.04873,    0.048594,    0.048364,\n",
      "           0.048104,    0.047845,    0.047585,    0.047326,    0.047066,    0.046806,     0.04662,    0.046435,    0.046249,    0.046063,    0.045878,    0.045692,    0.045506,     0.04532,    0.045134,    0.043221,    0.042881,     0.04254,      0.0422,     0.04186,    0.041519,    0.041252,    0.040984,\n",
      "           0.040717,     0.04045,    0.040183,    0.039915,    0.039413,    0.038512,    0.036717,    0.033911,    0.030158,    0.028205,           0]]), 'Confidence', 'F1'], [array([          0,    0.001001,    0.002002,    0.003003,    0.004004,    0.005005,    0.006006,    0.007007,    0.008008,    0.009009,     0.01001,    0.011011,    0.012012,    0.013013,    0.014014,    0.015015,    0.016016,    0.017017,    0.018018,    0.019019,     0.02002,    0.021021,    0.022022,    0.023023,\n",
      "          0.024024,    0.025025,    0.026026,    0.027027,    0.028028,    0.029029,     0.03003,    0.031031,    0.032032,    0.033033,    0.034034,    0.035035,    0.036036,    0.037037,    0.038038,    0.039039,     0.04004,    0.041041,    0.042042,    0.043043,    0.044044,    0.045045,    0.046046,    0.047047,\n",
      "          0.048048,    0.049049,     0.05005,    0.051051,    0.052052,    0.053053,    0.054054,    0.055055,    0.056056,    0.057057,    0.058058,    0.059059,     0.06006,    0.061061,    0.062062,    0.063063,    0.064064,    0.065065,    0.066066,    0.067067,    0.068068,    0.069069,     0.07007,    0.071071,\n",
      "          0.072072,    0.073073,    0.074074,    0.075075,    0.076076,    0.077077,    0.078078,    0.079079,     0.08008,    0.081081,    0.082082,    0.083083,    0.084084,    0.085085,    0.086086,    0.087087,    0.088088,    0.089089,     0.09009,    0.091091,    0.092092,    0.093093,    0.094094,    0.095095,\n",
      "          0.096096,    0.097097,    0.098098,    0.099099,      0.1001,      0.1011,      0.1021,      0.1031,      0.1041,     0.10511,     0.10611,     0.10711,     0.10811,     0.10911,     0.11011,     0.11111,     0.11211,     0.11311,     0.11411,     0.11512,     0.11612,     0.11712,     0.11812,     0.11912,\n",
      "           0.12012,     0.12112,     0.12212,     0.12312,     0.12412,     0.12513,     0.12613,     0.12713,     0.12813,     0.12913,     0.13013,     0.13113,     0.13213,     0.13313,     0.13413,     0.13514,     0.13614,     0.13714,     0.13814,     0.13914,     0.14014,     0.14114,     0.14214,     0.14314,\n",
      "           0.14414,     0.14515,     0.14615,     0.14715,     0.14815,     0.14915,     0.15015,     0.15115,     0.15215,     0.15315,     0.15415,     0.15516,     0.15616,     0.15716,     0.15816,     0.15916,     0.16016,     0.16116,     0.16216,     0.16316,     0.16416,     0.16517,     0.16617,     0.16717,\n",
      "           0.16817,     0.16917,     0.17017,     0.17117,     0.17217,     0.17317,     0.17417,     0.17518,     0.17618,     0.17718,     0.17818,     0.17918,     0.18018,     0.18118,     0.18218,     0.18318,     0.18418,     0.18519,     0.18619,     0.18719,     0.18819,     0.18919,     0.19019,     0.19119,\n",
      "           0.19219,     0.19319,     0.19419,      0.1952,      0.1962,      0.1972,      0.1982,      0.1992,      0.2002,      0.2012,      0.2022,      0.2032,      0.2042,     0.20521,     0.20621,     0.20721,     0.20821,     0.20921,     0.21021,     0.21121,     0.21221,     0.21321,     0.21421,     0.21522,\n",
      "           0.21622,     0.21722,     0.21822,     0.21922,     0.22022,     0.22122,     0.22222,     0.22322,     0.22422,     0.22523,     0.22623,     0.22723,     0.22823,     0.22923,     0.23023,     0.23123,     0.23223,     0.23323,     0.23423,     0.23524,     0.23624,     0.23724,     0.23824,     0.23924,\n",
      "           0.24024,     0.24124,     0.24224,     0.24324,     0.24424,     0.24525,     0.24625,     0.24725,     0.24825,     0.24925,     0.25025,     0.25125,     0.25225,     0.25325,     0.25425,     0.25526,     0.25626,     0.25726,     0.25826,     0.25926,     0.26026,     0.26126,     0.26226,     0.26326,\n",
      "           0.26426,     0.26527,     0.26627,     0.26727,     0.26827,     0.26927,     0.27027,     0.27127,     0.27227,     0.27327,     0.27427,     0.27528,     0.27628,     0.27728,     0.27828,     0.27928,     0.28028,     0.28128,     0.28228,     0.28328,     0.28428,     0.28529,     0.28629,     0.28729,\n",
      "           0.28829,     0.28929,     0.29029,     0.29129,     0.29229,     0.29329,     0.29429,      0.2953,      0.2963,      0.2973,      0.2983,      0.2993,      0.3003,      0.3013,      0.3023,      0.3033,      0.3043,     0.30531,     0.30631,     0.30731,     0.30831,     0.30931,     0.31031,     0.31131,\n",
      "           0.31231,     0.31331,     0.31431,     0.31532,     0.31632,     0.31732,     0.31832,     0.31932,     0.32032,     0.32132,     0.32232,     0.32332,     0.32432,     0.32533,     0.32633,     0.32733,     0.32833,     0.32933,     0.33033,     0.33133,     0.33233,     0.33333,     0.33433,     0.33534,\n",
      "           0.33634,     0.33734,     0.33834,     0.33934,     0.34034,     0.34134,     0.34234,     0.34334,     0.34434,     0.34535,     0.34635,     0.34735,     0.34835,     0.34935,     0.35035,     0.35135,     0.35235,     0.35335,     0.35435,     0.35536,     0.35636,     0.35736,     0.35836,     0.35936,\n",
      "           0.36036,     0.36136,     0.36236,     0.36336,     0.36436,     0.36537,     0.36637,     0.36737,     0.36837,     0.36937,     0.37037,     0.37137,     0.37237,     0.37337,     0.37437,     0.37538,     0.37638,     0.37738,     0.37838,     0.37938,     0.38038,     0.38138,     0.38238,     0.38338,\n",
      "           0.38438,     0.38539,     0.38639,     0.38739,     0.38839,     0.38939,     0.39039,     0.39139,     0.39239,     0.39339,     0.39439,      0.3954,      0.3964,      0.3974,      0.3984,      0.3994,      0.4004,      0.4014,      0.4024,      0.4034,      0.4044,     0.40541,     0.40641,     0.40741,\n",
      "           0.40841,     0.40941,     0.41041,     0.41141,     0.41241,     0.41341,     0.41441,     0.41542,     0.41642,     0.41742,     0.41842,     0.41942,     0.42042,     0.42142,     0.42242,     0.42342,     0.42442,     0.42543,     0.42643,     0.42743,     0.42843,     0.42943,     0.43043,     0.43143,\n",
      "           0.43243,     0.43343,     0.43443,     0.43544,     0.43644,     0.43744,     0.43844,     0.43944,     0.44044,     0.44144,     0.44244,     0.44344,     0.44444,     0.44545,     0.44645,     0.44745,     0.44845,     0.44945,     0.45045,     0.45145,     0.45245,     0.45345,     0.45445,     0.45546,\n",
      "           0.45646,     0.45746,     0.45846,     0.45946,     0.46046,     0.46146,     0.46246,     0.46346,     0.46446,     0.46547,     0.46647,     0.46747,     0.46847,     0.46947,     0.47047,     0.47147,     0.47247,     0.47347,     0.47447,     0.47548,     0.47648,     0.47748,     0.47848,     0.47948,\n",
      "           0.48048,     0.48148,     0.48248,     0.48348,     0.48448,     0.48549,     0.48649,     0.48749,     0.48849,     0.48949,     0.49049,     0.49149,     0.49249,     0.49349,     0.49449,      0.4955,      0.4965,      0.4975,      0.4985,      0.4995,      0.5005,      0.5015,      0.5025,      0.5035,\n",
      "            0.5045,     0.50551,     0.50651,     0.50751,     0.50851,     0.50951,     0.51051,     0.51151,     0.51251,     0.51351,     0.51451,     0.51552,     0.51652,     0.51752,     0.51852,     0.51952,     0.52052,     0.52152,     0.52252,     0.52352,     0.52452,     0.52553,     0.52653,     0.52753,\n",
      "           0.52853,     0.52953,     0.53053,     0.53153,     0.53253,     0.53353,     0.53453,     0.53554,     0.53654,     0.53754,     0.53854,     0.53954,     0.54054,     0.54154,     0.54254,     0.54354,     0.54454,     0.54555,     0.54655,     0.54755,     0.54855,     0.54955,     0.55055,     0.55155,\n",
      "           0.55255,     0.55355,     0.55455,     0.55556,     0.55656,     0.55756,     0.55856,     0.55956,     0.56056,     0.56156,     0.56256,     0.56356,     0.56456,     0.56557,     0.56657,     0.56757,     0.56857,     0.56957,     0.57057,     0.57157,     0.57257,     0.57357,     0.57457,     0.57558,\n",
      "           0.57658,     0.57758,     0.57858,     0.57958,     0.58058,     0.58158,     0.58258,     0.58358,     0.58458,     0.58559,     0.58659,     0.58759,     0.58859,     0.58959,     0.59059,     0.59159,     0.59259,     0.59359,     0.59459,      0.5956,      0.5966,      0.5976,      0.5986,      0.5996,\n",
      "            0.6006,      0.6016,      0.6026,      0.6036,      0.6046,     0.60561,     0.60661,     0.60761,     0.60861,     0.60961,     0.61061,     0.61161,     0.61261,     0.61361,     0.61461,     0.61562,     0.61662,     0.61762,     0.61862,     0.61962,     0.62062,     0.62162,     0.62262,     0.62362,\n",
      "           0.62462,     0.62563,     0.62663,     0.62763,     0.62863,     0.62963,     0.63063,     0.63163,     0.63263,     0.63363,     0.63463,     0.63564,     0.63664,     0.63764,     0.63864,     0.63964,     0.64064,     0.64164,     0.64264,     0.64364,     0.64464,     0.64565,     0.64665,     0.64765,\n",
      "           0.64865,     0.64965,     0.65065,     0.65165,     0.65265,     0.65365,     0.65465,     0.65566,     0.65666,     0.65766,     0.65866,     0.65966,     0.66066,     0.66166,     0.66266,     0.66366,     0.66466,     0.66567,     0.66667,     0.66767,     0.66867,     0.66967,     0.67067,     0.67167,\n",
      "           0.67267,     0.67367,     0.67467,     0.67568,     0.67668,     0.67768,     0.67868,     0.67968,     0.68068,     0.68168,     0.68268,     0.68368,     0.68468,     0.68569,     0.68669,     0.68769,     0.68869,     0.68969,     0.69069,     0.69169,     0.69269,     0.69369,     0.69469,      0.6957,\n",
      "            0.6967,      0.6977,      0.6987,      0.6997,      0.7007,      0.7017,      0.7027,      0.7037,      0.7047,     0.70571,     0.70671,     0.70771,     0.70871,     0.70971,     0.71071,     0.71171,     0.71271,     0.71371,     0.71471,     0.71572,     0.71672,     0.71772,     0.71872,     0.71972,\n",
      "           0.72072,     0.72172,     0.72272,     0.72372,     0.72472,     0.72573,     0.72673,     0.72773,     0.72873,     0.72973,     0.73073,     0.73173,     0.73273,     0.73373,     0.73473,     0.73574,     0.73674,     0.73774,     0.73874,     0.73974,     0.74074,     0.74174,     0.74274,     0.74374,\n",
      "           0.74474,     0.74575,     0.74675,     0.74775,     0.74875,     0.74975,     0.75075,     0.75175,     0.75275,     0.75375,     0.75475,     0.75576,     0.75676,     0.75776,     0.75876,     0.75976,     0.76076,     0.76176,     0.76276,     0.76376,     0.76476,     0.76577,     0.76677,     0.76777,\n",
      "           0.76877,     0.76977,     0.77077,     0.77177,     0.77277,     0.77377,     0.77477,     0.77578,     0.77678,     0.77778,     0.77878,     0.77978,     0.78078,     0.78178,     0.78278,     0.78378,     0.78478,     0.78579,     0.78679,     0.78779,     0.78879,     0.78979,     0.79079,     0.79179,\n",
      "           0.79279,     0.79379,     0.79479,      0.7958,      0.7968,      0.7978,      0.7988,      0.7998,      0.8008,      0.8018,      0.8028,      0.8038,      0.8048,     0.80581,     0.80681,     0.80781,     0.80881,     0.80981,     0.81081,     0.81181,     0.81281,     0.81381,     0.81481,     0.81582,\n",
      "           0.81682,     0.81782,     0.81882,     0.81982,     0.82082,     0.82182,     0.82282,     0.82382,     0.82482,     0.82583,     0.82683,     0.82783,     0.82883,     0.82983,     0.83083,     0.83183,     0.83283,     0.83383,     0.83483,     0.83584,     0.83684,     0.83784,     0.83884,     0.83984,\n",
      "           0.84084,     0.84184,     0.84284,     0.84384,     0.84484,     0.84585,     0.84685,     0.84785,     0.84885,     0.84985,     0.85085,     0.85185,     0.85285,     0.85385,     0.85485,     0.85586,     0.85686,     0.85786,     0.85886,     0.85986,     0.86086,     0.86186,     0.86286,     0.86386,\n",
      "           0.86486,     0.86587,     0.86687,     0.86787,     0.86887,     0.86987,     0.87087,     0.87187,     0.87287,     0.87387,     0.87487,     0.87588,     0.87688,     0.87788,     0.87888,     0.87988,     0.88088,     0.88188,     0.88288,     0.88388,     0.88488,     0.88589,     0.88689,     0.88789,\n",
      "           0.88889,     0.88989,     0.89089,     0.89189,     0.89289,     0.89389,     0.89489,      0.8959,      0.8969,      0.8979,      0.8989,      0.8999,      0.9009,      0.9019,      0.9029,      0.9039,      0.9049,     0.90591,     0.90691,     0.90791,     0.90891,     0.90991,     0.91091,     0.91191,\n",
      "           0.91291,     0.91391,     0.91491,     0.91592,     0.91692,     0.91792,     0.91892,     0.91992,     0.92092,     0.92192,     0.92292,     0.92392,     0.92492,     0.92593,     0.92693,     0.92793,     0.92893,     0.92993,     0.93093,     0.93193,     0.93293,     0.93393,     0.93493,     0.93594,\n",
      "           0.93694,     0.93794,     0.93894,     0.93994,     0.94094,     0.94194,     0.94294,     0.94394,     0.94494,     0.94595,     0.94695,     0.94795,     0.94895,     0.94995,     0.95095,     0.95195,     0.95295,     0.95395,     0.95495,     0.95596,     0.95696,     0.95796,     0.95896,     0.95996,\n",
      "           0.96096,     0.96196,     0.96296,     0.96396,     0.96496,     0.96597,     0.96697,     0.96797,     0.96897,     0.96997,     0.97097,     0.97197,     0.97297,     0.97397,     0.97497,     0.97598,     0.97698,     0.97798,     0.97898,     0.97998,     0.98098,     0.98198,     0.98298,     0.98398,\n",
      "           0.98498,     0.98599,     0.98699,     0.98799,     0.98899,     0.98999,     0.99099,     0.99199,     0.99299,     0.99399,     0.99499,       0.996,       0.997,       0.998,       0.999,           1]), array([[    0.31466,     0.31489,     0.42577,     0.49303,     0.54749,     0.58926,      0.6147,     0.63763,     0.65826,     0.67023,     0.68331,     0.69758,     0.70986,     0.72164,     0.73192,     0.74296,     0.74957,     0.75765,     0.76489,     0.77138,     0.77872,     0.78496,        0.79,\n",
      "            0.79576,     0.80483,     0.81047,     0.81592,      0.8196,     0.82374,     0.82656,     0.82765,     0.83119,     0.83395,     0.83484,     0.83636,     0.83806,     0.84114,     0.84396,     0.84697,     0.85103,     0.85388,     0.85666,      0.8577,     0.85909,     0.86093,     0.86378,\n",
      "            0.86574,     0.86794,     0.87207,     0.87267,      0.8732,     0.87488,     0.87847,     0.87973,     0.87969,     0.88136,     0.88383,     0.88586,     0.88673,     0.88731,     0.89066,     0.89193,     0.89246,     0.89409,     0.89431,     0.89453,     0.89476,     0.89524,     0.89587,\n",
      "            0.89682,     0.89883,     0.89941,     0.90016,      0.9021,     0.90311,     0.90363,     0.90394,      0.9043,     0.90538,      0.9068,     0.90725,     0.90754,     0.90775,     0.90795,     0.90816,     0.90913,     0.90931,     0.90949,     0.90967,     0.91004,     0.91096,     0.91157,\n",
      "            0.91212,     0.91275,     0.91339,     0.91508,     0.91695,     0.91776,     0.91912,     0.91966,     0.91992,     0.92019,     0.92094,     0.92208,     0.92264,     0.92497,     0.92628,     0.92712,     0.92786,     0.92914,      0.9308,     0.93298,     0.93346,     0.93388,      0.9342,\n",
      "            0.93451,     0.93488,     0.93527,     0.93608,     0.93786,     0.93827,     0.93856,     0.93886,     0.93999,     0.94067,      0.9409,     0.94113,     0.94136,     0.94174,     0.94221,     0.94253,     0.94281,     0.94309,     0.94344,     0.94382,     0.94402,     0.94399,     0.94491,\n",
      "            0.94504,     0.94516,     0.94528,     0.94541,     0.94553,     0.94565,     0.94757,     0.94786,     0.94815,     0.94863,     0.94927,     0.94945,     0.94962,     0.94979,     0.94997,     0.95028,     0.95099,     0.95145,     0.95189,     0.95214,     0.95239,     0.95264,     0.95286,\n",
      "            0.95306,     0.95327,     0.95348,     0.95372,     0.95405,     0.95438,     0.95473,     0.95509,     0.95546,     0.95593,      0.9566,      0.9576,     0.95815,     0.95834,     0.95854,     0.95874,     0.95894,     0.95933,     0.95974,     0.96006,     0.96034,     0.96063,     0.96083,\n",
      "            0.96097,      0.9611,     0.96124,     0.96138,     0.96152,     0.96169,     0.96223,      0.9626,     0.96272,     0.96284,     0.96296,     0.96308,      0.9632,     0.96332,     0.96344,     0.96353,     0.96361,      0.9637,     0.96378,     0.96387,     0.96395,     0.96403,     0.96412,\n",
      "             0.9642,     0.96429,     0.96442,      0.9647,     0.96499,     0.96618,     0.96659,       0.967,     0.96713,      0.9672,     0.96727,     0.96733,      0.9674,     0.96747,     0.96754,     0.96761,     0.96767,     0.96774,     0.96781,     0.96788,     0.96794,     0.96812,     0.96846,\n",
      "             0.9688,     0.96955,     0.96992,     0.97007,     0.97022,     0.97037,     0.97052,     0.97067,     0.97072,     0.97071,     0.97067,     0.97067,     0.97067,     0.97067,     0.97066,     0.97066,     0.97066,     0.97066,     0.97066,     0.97066,     0.97065,     0.97065,     0.97065,\n",
      "            0.97065,     0.97065,     0.97064,     0.97064,     0.97063,     0.97062,     0.97064,     0.97071,     0.97077,     0.97084,      0.9709,     0.97097,     0.97103,      0.9711,     0.97116,     0.97123,     0.97129,     0.97136,     0.97142,     0.97149,     0.97157,     0.97174,     0.97191,\n",
      "            0.97208,     0.97224,     0.97241,      0.9725,     0.97256,     0.97262,     0.97268,     0.97274,      0.9728,     0.97286,     0.97292,     0.97298,     0.97304,      0.9731,     0.97316,     0.97322,     0.97328,     0.97334,     0.97344,     0.97366,     0.97389,     0.97411,     0.97431,\n",
      "            0.97431,      0.9743,      0.9743,     0.97429,     0.97429,     0.97429,     0.97428,     0.97428,     0.97427,     0.97427,     0.97427,     0.97426,      0.9743,     0.97441,     0.97452,     0.97463,     0.97473,     0.97484,     0.97495,     0.97506,     0.97516,     0.97544,     0.97576,\n",
      "            0.97609,     0.97612,     0.97611,      0.9761,     0.97612,     0.97621,      0.9763,      0.9764,     0.97649,     0.97658,     0.97667,     0.97677,     0.97686,     0.97695,     0.97703,     0.97703,     0.97703,     0.97702,     0.97702,     0.97702,     0.97702,     0.97701,     0.97701,\n",
      "            0.97701,     0.97701,     0.97701,       0.977,       0.977,       0.977,       0.977,       0.977,     0.97699,     0.97699,     0.97699,     0.97699,     0.97698,     0.97698,     0.97698,     0.97697,     0.97697,     0.97697,     0.97697,     0.97696,     0.97696,     0.97696,     0.97695,\n",
      "            0.97695,     0.97695,     0.97695,     0.97694,     0.97694,     0.97694,     0.97694,     0.97694,     0.97694,     0.97694,     0.97694,     0.97694,     0.97694,     0.97694,     0.97693,     0.97693,     0.97693,     0.97693,     0.97693,     0.97693,     0.97693,     0.97693,     0.97693,\n",
      "            0.97693,     0.97693,     0.97693,     0.97692,     0.97692,     0.97703,     0.97717,      0.9773,     0.97744,     0.97757,     0.97771,     0.97784,     0.97786,     0.97785,     0.97784,     0.97784,     0.97784,     0.97783,     0.97783,     0.97783,     0.97783,     0.97782,     0.97782,\n",
      "            0.97781,     0.97781,     0.97792,     0.97842,     0.97872,     0.97872,     0.97872,     0.97871,     0.97871,     0.97871,     0.97891,     0.97944,     0.97965,     0.97964,     0.97963,     0.97963,     0.97962,     0.97962,     0.97973,      0.9801,     0.98047,     0.98056,     0.98056,\n",
      "            0.98055,     0.98055,     0.98054,     0.98053,     0.98052,     0.98052,     0.98051,     0.98055,     0.98063,     0.98071,     0.98079,     0.98088,     0.98096,     0.98104,     0.98112,     0.98121,     0.98129,     0.98137,     0.98145,     0.98145,     0.98156,     0.98167,     0.98179,\n",
      "            0.98191,     0.98202,     0.98214,     0.98226,     0.98237,     0.98267,     0.98304,     0.98337,     0.98336,     0.98336,     0.98336,     0.98336,     0.98336,     0.98336,     0.98336,     0.98336,     0.98336,     0.98335,     0.98335,     0.98335,     0.98335,     0.98335,     0.98337,\n",
      "            0.98359,     0.98382,     0.98404,     0.98426,     0.98431,     0.98431,      0.9843,     0.98439,     0.98454,     0.98469,     0.98484,     0.98499,     0.98514,     0.98526,     0.98526,     0.98526,     0.98526,     0.98526,     0.98525,     0.98525,     0.98524,     0.98534,     0.98544,\n",
      "            0.98553,     0.98563,     0.98573,     0.98582,     0.98592,     0.98602,     0.98612,     0.98621,      0.9862,      0.9862,      0.9862,     0.98643,     0.98666,     0.98689,     0.98711,     0.98716,     0.98862,     0.98911,     0.98911,      0.9891,      0.9891,      0.9891,     0.98909,\n",
      "            0.98909,     0.98909,     0.98908,     0.98908,     0.98908,     0.98907,     0.98907,     0.98916,     0.98927,     0.98939,      0.9895,     0.98962,     0.98974,     0.98985,     0.98997,     0.99014,     0.99045,     0.99076,     0.99103,     0.99102,     0.99101,     0.99101,       0.991,\n",
      "            0.99099,     0.99103,     0.99108,     0.99112,     0.99117,     0.99122,     0.99126,     0.99131,     0.99136,      0.9914,     0.99145,      0.9915,     0.99154,     0.99159,     0.99164,     0.99168,     0.99173,     0.99178,     0.99182,     0.99187,     0.99192,     0.99196,     0.99198,\n",
      "            0.99197,     0.99197,     0.99197,     0.99197,     0.99197,     0.99197,     0.99197,     0.99196,     0.99196,     0.99196,     0.99196,     0.99196,     0.99196,     0.99196,     0.99196,     0.99196,     0.99196,     0.99196,     0.99196,     0.99196,     0.99195,     0.99195,     0.99267,\n",
      "            0.99295,     0.99295,     0.99295,     0.99295,     0.99295,     0.99295,     0.99295,     0.99294,      0.9931,     0.99393,     0.99393,     0.99392,     0.99392,     0.99392,     0.99392,     0.99409,     0.99492,     0.99491,     0.99538,     0.99591,     0.99592,     0.99592,     0.99591,\n",
      "            0.99591,     0.99591,     0.99591,     0.99591,     0.99607,     0.99795,     0.99795,     0.99794,     0.99794,     0.99794,     0.99794,     0.99794,     0.99794,     0.99794,     0.99794,     0.99794,     0.99794,     0.99794,     0.99793,     0.99793,     0.99793,     0.99793,     0.99793,\n",
      "            0.99792,     0.99791,     0.99791,      0.9979,      0.9979,      0.9979,     0.99789,     0.99789,     0.99789,     0.99789,     0.99789,     0.99789,     0.99788,     0.99788,     0.99788,     0.99788,     0.99787,     0.99787,     0.99786,     0.99786,     0.99786,     0.99785,     0.99785,\n",
      "            0.99785,     0.99785,     0.99785,     0.99784,     0.99784,     0.99784,     0.99783,     0.99782,     0.99782,     0.99782,     0.99782,     0.99781,     0.99781,      0.9978,     0.99779,     0.99779,     0.99779,     0.99778,     0.99778,     0.99778,     0.99778,     0.99776,     0.99776,\n",
      "            0.99775,     0.99775,     0.99775,     0.99774,     0.99774,     0.99774,     0.99773,     0.99773,     0.99772,     0.99772,     0.99772,     0.99771,      0.9977,     0.99885,     0.99884,     0.99884,     0.99883,     0.99883,     0.99883,     0.99883,     0.99883,     0.99882,     0.99882,\n",
      "            0.99882,     0.99881,     0.99881,     0.99881,     0.99881,      0.9988,      0.9988,      0.9988,      0.9988,      0.9988,     0.99879,     0.99878,     0.99878,     0.99877,     0.99877,     0.99876,     0.99875,     0.99875,     0.99874,     0.99874,     0.99873,     0.99872,     0.99872,\n",
      "            0.99871,     0.99871,      0.9987,     0.99869,     0.99869,     0.99868,     0.99867,     0.99866,     0.99865,     0.99863,     0.99862,     0.99861,      0.9986,     0.99858,     0.99855,     0.99854,     0.99853,     0.99851,      0.9985,     0.99848,     0.99847,     0.99846,     0.99844,\n",
      "            0.99841,      0.9984,     0.99837,     0.99835,     0.99832,     0.99829,     0.99826,     0.99824,     0.99821,     0.99818,     0.99816,     0.99814,     0.99811,     0.99808,     0.99805,     0.99801,     0.99798,     0.99795,     0.99794,     0.99789,     0.99787,     0.99783,     0.99781,\n",
      "            0.99779,     0.99774,     0.99769,     0.99766,     0.99764,     0.99763,     0.99761,     0.99758,     0.99756,     0.99754,      0.9975,     0.99748,     0.99745,     0.99744,     0.99742,      0.9974,     0.99738,     0.99736,     0.99733,     0.99731,     0.99729,     0.99726,     0.99725,\n",
      "            0.99724,     0.99723,     0.99721,      0.9972,     0.99716,     0.99714,     0.99712,      0.9971,     0.99706,     0.99705,     0.99705,     0.99703,     0.99702,     0.99701,     0.99698,     0.99697,     0.99694,     0.99689,     0.99687,     0.99684,     0.99683,     0.99842,           1,\n",
      "                  1,           1,           1,           1,           1,           1,           1,           1,           1,           1,           1,           1,           1,           1,           1,           1,           1,           1,           1,           1,           1,           1,           1,\n",
      "                  1,           1,           1,           1,           1,           1,           1,           1,           1,           1,           1,           1,           1,           1,           1,           1,           1,           1,           1,           1,           1,           1,           1,\n",
      "                  1,           1,           1,           1,           1,           1,           1,           1,           1,           1,           1,           1,           1,           1,           1,           1,           1,           1,           1,           1,           1,           1,           1,\n",
      "                  1,           1,           1,           1,           1,           1,           1,           1,           1,           1,           1,           1,           1,           1,           1,           1,           1,           1,           1,           1,           1,           1,           1,\n",
      "                  1,           1,           1,           1,           1,           1,           1,           1,           1,           1,           1,           1,           1,           1,           1,           1,           1,           1,           1,           1,           1,           1,           1,\n",
      "                  1,           1,           1,           1,           1,           1,           1,           1,           1,           1,           1,           1,           1,           1,           1,           1,           1,           1,           1,           1,           1,           1,           1,\n",
      "                  1,           1,           1,           1,           1,           1,           1,           1,           1,           1,           1,           1,           1,           1,           1,           1,           1,           1,           1,           1,           1,           1,           1,\n",
      "                  1,           1,           1,           1,           1,           1,           1,           1,           1,           1,           1]]), 'Confidence', 'Precision'], [array([          0,    0.001001,    0.002002,    0.003003,    0.004004,    0.005005,    0.006006,    0.007007,    0.008008,    0.009009,     0.01001,    0.011011,    0.012012,    0.013013,    0.014014,    0.015015,    0.016016,    0.017017,    0.018018,    0.019019,     0.02002,    0.021021,    0.022022,    0.023023,\n",
      "          0.024024,    0.025025,    0.026026,    0.027027,    0.028028,    0.029029,     0.03003,    0.031031,    0.032032,    0.033033,    0.034034,    0.035035,    0.036036,    0.037037,    0.038038,    0.039039,     0.04004,    0.041041,    0.042042,    0.043043,    0.044044,    0.045045,    0.046046,    0.047047,\n",
      "          0.048048,    0.049049,     0.05005,    0.051051,    0.052052,    0.053053,    0.054054,    0.055055,    0.056056,    0.057057,    0.058058,    0.059059,     0.06006,    0.061061,    0.062062,    0.063063,    0.064064,    0.065065,    0.066066,    0.067067,    0.068068,    0.069069,     0.07007,    0.071071,\n",
      "          0.072072,    0.073073,    0.074074,    0.075075,    0.076076,    0.077077,    0.078078,    0.079079,     0.08008,    0.081081,    0.082082,    0.083083,    0.084084,    0.085085,    0.086086,    0.087087,    0.088088,    0.089089,     0.09009,    0.091091,    0.092092,    0.093093,    0.094094,    0.095095,\n",
      "          0.096096,    0.097097,    0.098098,    0.099099,      0.1001,      0.1011,      0.1021,      0.1031,      0.1041,     0.10511,     0.10611,     0.10711,     0.10811,     0.10911,     0.11011,     0.11111,     0.11211,     0.11311,     0.11411,     0.11512,     0.11612,     0.11712,     0.11812,     0.11912,\n",
      "           0.12012,     0.12112,     0.12212,     0.12312,     0.12412,     0.12513,     0.12613,     0.12713,     0.12813,     0.12913,     0.13013,     0.13113,     0.13213,     0.13313,     0.13413,     0.13514,     0.13614,     0.13714,     0.13814,     0.13914,     0.14014,     0.14114,     0.14214,     0.14314,\n",
      "           0.14414,     0.14515,     0.14615,     0.14715,     0.14815,     0.14915,     0.15015,     0.15115,     0.15215,     0.15315,     0.15415,     0.15516,     0.15616,     0.15716,     0.15816,     0.15916,     0.16016,     0.16116,     0.16216,     0.16316,     0.16416,     0.16517,     0.16617,     0.16717,\n",
      "           0.16817,     0.16917,     0.17017,     0.17117,     0.17217,     0.17317,     0.17417,     0.17518,     0.17618,     0.17718,     0.17818,     0.17918,     0.18018,     0.18118,     0.18218,     0.18318,     0.18418,     0.18519,     0.18619,     0.18719,     0.18819,     0.18919,     0.19019,     0.19119,\n",
      "           0.19219,     0.19319,     0.19419,      0.1952,      0.1962,      0.1972,      0.1982,      0.1992,      0.2002,      0.2012,      0.2022,      0.2032,      0.2042,     0.20521,     0.20621,     0.20721,     0.20821,     0.20921,     0.21021,     0.21121,     0.21221,     0.21321,     0.21421,     0.21522,\n",
      "           0.21622,     0.21722,     0.21822,     0.21922,     0.22022,     0.22122,     0.22222,     0.22322,     0.22422,     0.22523,     0.22623,     0.22723,     0.22823,     0.22923,     0.23023,     0.23123,     0.23223,     0.23323,     0.23423,     0.23524,     0.23624,     0.23724,     0.23824,     0.23924,\n",
      "           0.24024,     0.24124,     0.24224,     0.24324,     0.24424,     0.24525,     0.24625,     0.24725,     0.24825,     0.24925,     0.25025,     0.25125,     0.25225,     0.25325,     0.25425,     0.25526,     0.25626,     0.25726,     0.25826,     0.25926,     0.26026,     0.26126,     0.26226,     0.26326,\n",
      "           0.26426,     0.26527,     0.26627,     0.26727,     0.26827,     0.26927,     0.27027,     0.27127,     0.27227,     0.27327,     0.27427,     0.27528,     0.27628,     0.27728,     0.27828,     0.27928,     0.28028,     0.28128,     0.28228,     0.28328,     0.28428,     0.28529,     0.28629,     0.28729,\n",
      "           0.28829,     0.28929,     0.29029,     0.29129,     0.29229,     0.29329,     0.29429,      0.2953,      0.2963,      0.2973,      0.2983,      0.2993,      0.3003,      0.3013,      0.3023,      0.3033,      0.3043,     0.30531,     0.30631,     0.30731,     0.30831,     0.30931,     0.31031,     0.31131,\n",
      "           0.31231,     0.31331,     0.31431,     0.31532,     0.31632,     0.31732,     0.31832,     0.31932,     0.32032,     0.32132,     0.32232,     0.32332,     0.32432,     0.32533,     0.32633,     0.32733,     0.32833,     0.32933,     0.33033,     0.33133,     0.33233,     0.33333,     0.33433,     0.33534,\n",
      "           0.33634,     0.33734,     0.33834,     0.33934,     0.34034,     0.34134,     0.34234,     0.34334,     0.34434,     0.34535,     0.34635,     0.34735,     0.34835,     0.34935,     0.35035,     0.35135,     0.35235,     0.35335,     0.35435,     0.35536,     0.35636,     0.35736,     0.35836,     0.35936,\n",
      "           0.36036,     0.36136,     0.36236,     0.36336,     0.36436,     0.36537,     0.36637,     0.36737,     0.36837,     0.36937,     0.37037,     0.37137,     0.37237,     0.37337,     0.37437,     0.37538,     0.37638,     0.37738,     0.37838,     0.37938,     0.38038,     0.38138,     0.38238,     0.38338,\n",
      "           0.38438,     0.38539,     0.38639,     0.38739,     0.38839,     0.38939,     0.39039,     0.39139,     0.39239,     0.39339,     0.39439,      0.3954,      0.3964,      0.3974,      0.3984,      0.3994,      0.4004,      0.4014,      0.4024,      0.4034,      0.4044,     0.40541,     0.40641,     0.40741,\n",
      "           0.40841,     0.40941,     0.41041,     0.41141,     0.41241,     0.41341,     0.41441,     0.41542,     0.41642,     0.41742,     0.41842,     0.41942,     0.42042,     0.42142,     0.42242,     0.42342,     0.42442,     0.42543,     0.42643,     0.42743,     0.42843,     0.42943,     0.43043,     0.43143,\n",
      "           0.43243,     0.43343,     0.43443,     0.43544,     0.43644,     0.43744,     0.43844,     0.43944,     0.44044,     0.44144,     0.44244,     0.44344,     0.44444,     0.44545,     0.44645,     0.44745,     0.44845,     0.44945,     0.45045,     0.45145,     0.45245,     0.45345,     0.45445,     0.45546,\n",
      "           0.45646,     0.45746,     0.45846,     0.45946,     0.46046,     0.46146,     0.46246,     0.46346,     0.46446,     0.46547,     0.46647,     0.46747,     0.46847,     0.46947,     0.47047,     0.47147,     0.47247,     0.47347,     0.47447,     0.47548,     0.47648,     0.47748,     0.47848,     0.47948,\n",
      "           0.48048,     0.48148,     0.48248,     0.48348,     0.48448,     0.48549,     0.48649,     0.48749,     0.48849,     0.48949,     0.49049,     0.49149,     0.49249,     0.49349,     0.49449,      0.4955,      0.4965,      0.4975,      0.4985,      0.4995,      0.5005,      0.5015,      0.5025,      0.5035,\n",
      "            0.5045,     0.50551,     0.50651,     0.50751,     0.50851,     0.50951,     0.51051,     0.51151,     0.51251,     0.51351,     0.51451,     0.51552,     0.51652,     0.51752,     0.51852,     0.51952,     0.52052,     0.52152,     0.52252,     0.52352,     0.52452,     0.52553,     0.52653,     0.52753,\n",
      "           0.52853,     0.52953,     0.53053,     0.53153,     0.53253,     0.53353,     0.53453,     0.53554,     0.53654,     0.53754,     0.53854,     0.53954,     0.54054,     0.54154,     0.54254,     0.54354,     0.54454,     0.54555,     0.54655,     0.54755,     0.54855,     0.54955,     0.55055,     0.55155,\n",
      "           0.55255,     0.55355,     0.55455,     0.55556,     0.55656,     0.55756,     0.55856,     0.55956,     0.56056,     0.56156,     0.56256,     0.56356,     0.56456,     0.56557,     0.56657,     0.56757,     0.56857,     0.56957,     0.57057,     0.57157,     0.57257,     0.57357,     0.57457,     0.57558,\n",
      "           0.57658,     0.57758,     0.57858,     0.57958,     0.58058,     0.58158,     0.58258,     0.58358,     0.58458,     0.58559,     0.58659,     0.58759,     0.58859,     0.58959,     0.59059,     0.59159,     0.59259,     0.59359,     0.59459,      0.5956,      0.5966,      0.5976,      0.5986,      0.5996,\n",
      "            0.6006,      0.6016,      0.6026,      0.6036,      0.6046,     0.60561,     0.60661,     0.60761,     0.60861,     0.60961,     0.61061,     0.61161,     0.61261,     0.61361,     0.61461,     0.61562,     0.61662,     0.61762,     0.61862,     0.61962,     0.62062,     0.62162,     0.62262,     0.62362,\n",
      "           0.62462,     0.62563,     0.62663,     0.62763,     0.62863,     0.62963,     0.63063,     0.63163,     0.63263,     0.63363,     0.63463,     0.63564,     0.63664,     0.63764,     0.63864,     0.63964,     0.64064,     0.64164,     0.64264,     0.64364,     0.64464,     0.64565,     0.64665,     0.64765,\n",
      "           0.64865,     0.64965,     0.65065,     0.65165,     0.65265,     0.65365,     0.65465,     0.65566,     0.65666,     0.65766,     0.65866,     0.65966,     0.66066,     0.66166,     0.66266,     0.66366,     0.66466,     0.66567,     0.66667,     0.66767,     0.66867,     0.66967,     0.67067,     0.67167,\n",
      "           0.67267,     0.67367,     0.67467,     0.67568,     0.67668,     0.67768,     0.67868,     0.67968,     0.68068,     0.68168,     0.68268,     0.68368,     0.68468,     0.68569,     0.68669,     0.68769,     0.68869,     0.68969,     0.69069,     0.69169,     0.69269,     0.69369,     0.69469,      0.6957,\n",
      "            0.6967,      0.6977,      0.6987,      0.6997,      0.7007,      0.7017,      0.7027,      0.7037,      0.7047,     0.70571,     0.70671,     0.70771,     0.70871,     0.70971,     0.71071,     0.71171,     0.71271,     0.71371,     0.71471,     0.71572,     0.71672,     0.71772,     0.71872,     0.71972,\n",
      "           0.72072,     0.72172,     0.72272,     0.72372,     0.72472,     0.72573,     0.72673,     0.72773,     0.72873,     0.72973,     0.73073,     0.73173,     0.73273,     0.73373,     0.73473,     0.73574,     0.73674,     0.73774,     0.73874,     0.73974,     0.74074,     0.74174,     0.74274,     0.74374,\n",
      "           0.74474,     0.74575,     0.74675,     0.74775,     0.74875,     0.74975,     0.75075,     0.75175,     0.75275,     0.75375,     0.75475,     0.75576,     0.75676,     0.75776,     0.75876,     0.75976,     0.76076,     0.76176,     0.76276,     0.76376,     0.76476,     0.76577,     0.76677,     0.76777,\n",
      "           0.76877,     0.76977,     0.77077,     0.77177,     0.77277,     0.77377,     0.77477,     0.77578,     0.77678,     0.77778,     0.77878,     0.77978,     0.78078,     0.78178,     0.78278,     0.78378,     0.78478,     0.78579,     0.78679,     0.78779,     0.78879,     0.78979,     0.79079,     0.79179,\n",
      "           0.79279,     0.79379,     0.79479,      0.7958,      0.7968,      0.7978,      0.7988,      0.7998,      0.8008,      0.8018,      0.8028,      0.8038,      0.8048,     0.80581,     0.80681,     0.80781,     0.80881,     0.80981,     0.81081,     0.81181,     0.81281,     0.81381,     0.81481,     0.81582,\n",
      "           0.81682,     0.81782,     0.81882,     0.81982,     0.82082,     0.82182,     0.82282,     0.82382,     0.82482,     0.82583,     0.82683,     0.82783,     0.82883,     0.82983,     0.83083,     0.83183,     0.83283,     0.83383,     0.83483,     0.83584,     0.83684,     0.83784,     0.83884,     0.83984,\n",
      "           0.84084,     0.84184,     0.84284,     0.84384,     0.84484,     0.84585,     0.84685,     0.84785,     0.84885,     0.84985,     0.85085,     0.85185,     0.85285,     0.85385,     0.85485,     0.85586,     0.85686,     0.85786,     0.85886,     0.85986,     0.86086,     0.86186,     0.86286,     0.86386,\n",
      "           0.86486,     0.86587,     0.86687,     0.86787,     0.86887,     0.86987,     0.87087,     0.87187,     0.87287,     0.87387,     0.87487,     0.87588,     0.87688,     0.87788,     0.87888,     0.87988,     0.88088,     0.88188,     0.88288,     0.88388,     0.88488,     0.88589,     0.88689,     0.88789,\n",
      "           0.88889,     0.88989,     0.89089,     0.89189,     0.89289,     0.89389,     0.89489,      0.8959,      0.8969,      0.8979,      0.8989,      0.8999,      0.9009,      0.9019,      0.9029,      0.9039,      0.9049,     0.90591,     0.90691,     0.90791,     0.90891,     0.90991,     0.91091,     0.91191,\n",
      "           0.91291,     0.91391,     0.91491,     0.91592,     0.91692,     0.91792,     0.91892,     0.91992,     0.92092,     0.92192,     0.92292,     0.92392,     0.92492,     0.92593,     0.92693,     0.92793,     0.92893,     0.92993,     0.93093,     0.93193,     0.93293,     0.93393,     0.93493,     0.93594,\n",
      "           0.93694,     0.93794,     0.93894,     0.93994,     0.94094,     0.94194,     0.94294,     0.94394,     0.94494,     0.94595,     0.94695,     0.94795,     0.94895,     0.94995,     0.95095,     0.95195,     0.95295,     0.95395,     0.95495,     0.95596,     0.95696,     0.95796,     0.95896,     0.95996,\n",
      "           0.96096,     0.96196,     0.96296,     0.96396,     0.96496,     0.96597,     0.96697,     0.96797,     0.96897,     0.96997,     0.97097,     0.97197,     0.97297,     0.97397,     0.97497,     0.97598,     0.97698,     0.97798,     0.97898,     0.97998,     0.98098,     0.98198,     0.98298,     0.98398,\n",
      "           0.98498,     0.98599,     0.98699,     0.98799,     0.98899,     0.98999,     0.99099,     0.99199,     0.99299,     0.99399,     0.99499,       0.996,       0.997,       0.998,       0.999,           1]), array([[    0.97327,     0.97327,     0.97235,     0.97051,      0.9679,     0.96682,     0.96498,     0.96406,     0.96406,     0.96313,     0.96313,     0.96313,     0.96221,     0.96221,     0.96221,     0.96129,     0.96129,     0.96129,     0.96129,     0.95945,     0.95945,     0.95945,     0.95945,\n",
      "             0.9576,      0.9576,      0.9576,      0.9576,      0.9576,      0.9576,     0.95753,     0.95576,     0.95576,     0.95576,     0.95505,     0.95484,     0.95484,       0.953,       0.953,       0.953,       0.953,       0.953,     0.95295,     0.95207,     0.95207,     0.95207,     0.95207,\n",
      "            0.95207,     0.95207,     0.95207,     0.95207,     0.95207,     0.95207,     0.95207,     0.95207,     0.95023,     0.95023,     0.95023,     0.95023,     0.95023,     0.94931,     0.94931,     0.94931,     0.94848,     0.94839,     0.94839,     0.94839,     0.94839,     0.94839,     0.94839,\n",
      "            0.94839,     0.94839,     0.94839,     0.94839,     0.94839,     0.94839,     0.94839,     0.94839,     0.94839,     0.94839,     0.94839,     0.94839,     0.94839,     0.94839,     0.94839,     0.94839,     0.94839,     0.94839,     0.94839,     0.94839,     0.94839,     0.94839,     0.94839,\n",
      "            0.94839,     0.94839,     0.94839,     0.94839,     0.94839,     0.94839,     0.94839,     0.94839,     0.94839,     0.94839,     0.94839,     0.94839,     0.94839,     0.94839,     0.94839,     0.94839,     0.94839,     0.94839,     0.94839,     0.94839,     0.94839,     0.94839,     0.94839,\n",
      "            0.94839,     0.94839,     0.94839,     0.94839,     0.94839,     0.94839,     0.94839,     0.94839,     0.94839,     0.94839,     0.94839,     0.94839,     0.94839,     0.94839,     0.94839,     0.94839,     0.94839,     0.94839,     0.94839,     0.94839,     0.94813,     0.94753,     0.94747,\n",
      "            0.94747,     0.94747,     0.94747,     0.94747,     0.94747,     0.94747,     0.94747,     0.94747,     0.94747,     0.94747,     0.94747,     0.94747,     0.94747,     0.94747,     0.94747,     0.94747,     0.94747,     0.94747,     0.94747,     0.94747,     0.94747,     0.94747,     0.94747,\n",
      "            0.94747,     0.94747,     0.94747,     0.94747,     0.94747,     0.94747,     0.94747,     0.94747,     0.94747,     0.94747,     0.94747,     0.94747,     0.94747,     0.94747,     0.94747,     0.94747,     0.94747,     0.94747,     0.94747,     0.94747,     0.94747,     0.94747,     0.94747,\n",
      "            0.94747,     0.94747,     0.94747,     0.94747,     0.94747,     0.94747,     0.94747,     0.94747,     0.94747,     0.94747,     0.94747,     0.94747,     0.94747,     0.94747,     0.94747,     0.94747,     0.94747,     0.94747,     0.94747,     0.94747,     0.94747,     0.94747,     0.94747,\n",
      "            0.94747,     0.94747,     0.94747,     0.94747,     0.94747,     0.94747,     0.94747,     0.94747,     0.94747,     0.94747,     0.94747,     0.94747,     0.94747,     0.94747,     0.94747,     0.94747,     0.94747,     0.94747,     0.94747,     0.94747,     0.94747,     0.94747,     0.94747,\n",
      "            0.94747,     0.94747,     0.94747,     0.94747,     0.94747,     0.94747,     0.94747,     0.94747,     0.94719,     0.94676,      0.9456,     0.94554,     0.94549,     0.94543,     0.94537,     0.94531,     0.94525,     0.94519,     0.94513,     0.94508,     0.94502,     0.94496,      0.9449,\n",
      "            0.94484,     0.94478,     0.94472,     0.94452,     0.94423,     0.94394,     0.94378,     0.94378,     0.94378,     0.94378,     0.94378,     0.94378,     0.94378,     0.94378,     0.94378,     0.94378,     0.94378,     0.94378,     0.94378,     0.94378,     0.94378,     0.94378,     0.94378,\n",
      "            0.94378,     0.94378,     0.94378,     0.94378,     0.94378,     0.94378,     0.94378,     0.94378,     0.94378,     0.94378,     0.94378,     0.94378,     0.94378,     0.94378,     0.94378,     0.94378,     0.94378,     0.94378,     0.94378,     0.94378,     0.94378,     0.94378,     0.94376,\n",
      "             0.9436,     0.94345,     0.94329,     0.94314,     0.94298,     0.94283,      0.9427,     0.94256,     0.94243,     0.94229,     0.94215,     0.94202,     0.94194,     0.94194,     0.94194,     0.94194,     0.94194,     0.94194,     0.94194,     0.94194,     0.94194,     0.94194,     0.94194,\n",
      "            0.94194,     0.94171,     0.94146,     0.94121,     0.94101,     0.94101,     0.94101,     0.94101,     0.94101,     0.94101,     0.94101,     0.94101,     0.94101,     0.94101,       0.941,     0.94088,     0.94077,     0.94065,     0.94054,     0.94042,     0.94031,     0.94019,     0.94008,\n",
      "               0.94,     0.93991,     0.93983,     0.93974,     0.93966,     0.93957,     0.93949,      0.9394,     0.93932,     0.93924,     0.93914,     0.93902,      0.9389,     0.93878,     0.93865,     0.93853,     0.93841,     0.93829,     0.93817,     0.93804,     0.93792,      0.9378,     0.93768,\n",
      "            0.93756,     0.93743,     0.93732,     0.93729,     0.93725,     0.93721,     0.93718,     0.93714,      0.9371,     0.93707,     0.93703,       0.937,     0.93696,     0.93692,     0.93689,     0.93685,     0.93681,     0.93678,     0.93674,      0.9367,     0.93667,     0.93663,     0.93659,\n",
      "            0.93656,     0.93652,     0.93649,     0.93645,     0.93641,     0.93641,     0.93641,     0.93641,     0.93641,     0.93641,     0.93641,     0.93641,     0.93607,     0.93568,     0.93543,     0.93532,     0.93522,     0.93511,       0.935,     0.93489,     0.93479,     0.93468,     0.93457,\n",
      "            0.93425,      0.9339,     0.93364,     0.93364,     0.93275,     0.93256,     0.93239,     0.93223,     0.93206,      0.9319,      0.9318,      0.9318,     0.93161,      0.9313,       0.931,     0.93071,     0.93042,     0.93014,     0.92995,     0.92995,     0.92995,     0.92979,     0.92957,\n",
      "            0.92935,     0.92913,     0.92882,     0.92843,     0.92804,      0.9277,     0.92736,     0.92719,     0.92719,     0.92719,     0.92719,     0.92719,     0.92719,     0.92719,     0.92719,     0.92719,     0.92719,     0.92719,     0.92719,     0.92631,     0.92627,     0.92627,     0.92627,\n",
      "            0.92627,     0.92627,     0.92627,     0.92627,     0.92627,     0.92627,     0.92627,     0.92626,      0.9262,     0.92614,     0.92608,     0.92602,     0.92595,     0.92589,     0.92583,     0.92577,     0.92571,     0.92565,     0.92559,     0.92552,     0.92546,      0.9254,     0.92535,\n",
      "            0.92535,     0.92535,     0.92535,     0.92535,     0.92512,     0.92483,     0.92454,     0.92442,     0.92442,     0.92442,     0.92442,     0.92442,     0.92442,      0.9244,     0.92426,     0.92412,     0.92398,     0.92384,      0.9237,     0.92356,     0.92258,     0.92258,     0.92258,\n",
      "            0.92258,     0.92258,     0.92258,     0.92258,     0.92258,     0.92258,     0.92258,     0.92256,     0.92225,     0.92195,     0.92166,     0.92166,     0.92166,     0.92166,     0.92166,     0.92103,     0.92074,     0.92061,     0.92043,     0.92024,     0.92005,     0.91986,     0.91954,\n",
      "            0.91918,     0.91882,      0.9185,     0.91818,     0.91785,     0.91749,     0.91713,     0.91705,     0.91705,     0.91705,     0.91705,     0.91705,     0.91705,     0.91705,     0.91705,     0.91705,     0.91705,     0.91705,     0.91686,     0.91507,     0.91466,     0.91413,     0.91312,\n",
      "            0.91255,     0.91244,     0.91244,     0.91244,     0.91244,     0.91244,     0.91244,     0.91244,     0.91244,     0.91244,     0.91244,     0.91244,     0.91244,     0.91244,     0.91244,     0.91244,     0.91244,     0.91244,     0.91244,     0.91244,     0.91244,     0.91244,     0.91155,\n",
      "             0.9111,     0.91068,     0.91055,      0.9105,     0.91044,     0.91038,     0.91032,     0.91027,     0.91021,     0.91015,      0.9101,     0.91004,     0.90998,     0.90992,     0.90987,     0.90981,     0.90975,      0.9097,     0.90953,     0.90932,      0.9091,     0.90888,     0.90876,\n",
      "            0.90867,     0.90856,     0.90846,     0.90835,     0.90824,     0.90814,     0.90803,     0.90793,     0.90691,     0.90505,     0.90489,     0.90474,     0.90459,     0.90443,     0.90428,     0.90415,     0.90303,     0.90155,     0.90138,     0.90138,     0.90038,     0.89957,     0.89849,\n",
      "            0.89833,     0.89816,       0.898,     0.89784,     0.89677,     0.89651,     0.89573,     0.89515,     0.89396,      0.8938,     0.89363,     0.89347,      0.8933,     0.89314,     0.89282,     0.89245,     0.89201,     0.89142,     0.89068,     0.88947,     0.88901,      0.8886,     0.88701,\n",
      "            0.88532,     0.88161,     0.87977,      0.8778,     0.87684,     0.87484,     0.87308,       0.872,     0.87127,     0.87078,     0.87044,     0.87011,     0.86895,     0.86855,     0.86791,     0.86672,     0.86504,     0.86241,     0.86123,     0.86015,      0.8588,     0.85646,     0.85575,\n",
      "            0.85524,     0.85491,     0.85458,     0.85307,      0.8514,     0.85054,      0.8462,      0.8441,     0.84356,     0.84295,     0.84215,      0.8402,     0.83894,     0.83722,     0.83395,     0.83205,     0.83114,     0.83003,     0.82929,     0.82863,     0.82699,     0.82257,     0.81981,\n",
      "            0.81811,     0.81761,     0.81622,     0.81501,     0.81367,     0.81309,     0.81118,     0.80894,     0.80832,     0.80724,     0.80503,     0.80269,     0.79908,     0.79762,     0.79661,     0.79263,     0.78981,      0.7874,     0.78526,     0.78475,     0.78416,     0.78243,     0.78054,\n",
      "            0.77796,     0.77552,     0.77397,      0.7728,     0.77063,     0.76942,     0.76909,     0.76877,     0.76719,     0.76446,     0.75956,     0.75688,     0.75467,     0.75106,     0.74697,     0.74199,     0.73831,     0.73662,     0.73223,     0.72929,     0.72665,     0.72176,     0.71895,\n",
      "            0.71424,     0.71274,     0.70893,     0.70367,     0.70033,     0.69762,     0.69199,     0.68625,     0.68015,     0.67277,     0.66747,     0.66289,     0.65513,     0.64767,     0.63594,     0.62894,      0.6241,     0.61779,     0.61252,     0.60525,      0.6015,     0.59606,     0.58904,\n",
      "            0.57875,     0.57447,     0.56462,       0.558,     0.54648,      0.5372,     0.52908,     0.52319,     0.51387,     0.50493,     0.49965,     0.49476,     0.48708,     0.47862,     0.47153,     0.46334,     0.45508,     0.44776,     0.44611,     0.43615,     0.43164,     0.42394,     0.41947,\n",
      "             0.4157,     0.40722,     0.39741,     0.39253,     0.38981,     0.38755,     0.38412,     0.38035,     0.37745,     0.37305,     0.36736,     0.36462,      0.3607,     0.35946,     0.35662,      0.3531,     0.35048,     0.34865,     0.34427,     0.34144,     0.33865,     0.33537,     0.33449,\n",
      "            0.33353,     0.33202,     0.32895,     0.32832,     0.32403,     0.32176,     0.31864,     0.31643,     0.31236,     0.31183,     0.31122,     0.30925,     0.30795,     0.30692,     0.30398,     0.30338,     0.30073,     0.29576,     0.29388,     0.29066,     0.28944,     0.28756,     0.28521,\n",
      "            0.28361,     0.28249,     0.28031,      0.2795,     0.27892,     0.27842,     0.27641,     0.27592,     0.27538,     0.27472,      0.2731,     0.27086,     0.26787,     0.26694,     0.26565,     0.26485,     0.26392,     0.26108,     0.25919,     0.25831,     0.25517,     0.25245,     0.25096,\n",
      "            0.24909,     0.24821,     0.24474,     0.24125,     0.23818,     0.23691,     0.23612,      0.2338,     0.23066,     0.22754,     0.22602,     0.22331,     0.22221,     0.22052,      0.2162,     0.21008,     0.20496,     0.20112,     0.19701,     0.19305,     0.19176,     0.18515,      0.1821,\n",
      "            0.17508,     0.16903,     0.16433,     0.15575,     0.14754,     0.13641,     0.12834,     0.12125,     0.11652,     0.10921,     0.10464,    0.096417,    0.091695,    0.090038,    0.086374,     0.08097,    0.074315,    0.067468,    0.061891,    0.059097,    0.055018,    0.052825,    0.049993,\n",
      "           0.047524,     0.04492,    0.043948,    0.043174,    0.042307,    0.040967,    0.038566,    0.036771,    0.035234,    0.034336,    0.032507,    0.030991,    0.030275,     0.02971,    0.029441,    0.029357,    0.029273,    0.029189,    0.029104,     0.02902,    0.028936,    0.028852,    0.028767,\n",
      "           0.028683,    0.028599,    0.028544,    0.028502,    0.028461,    0.028419,    0.028378,    0.028337,    0.028295,    0.028254,    0.028213,    0.028171,     0.02813,    0.028088,    0.028047,    0.028006,    0.027964,    0.027923,    0.027881,     0.02784,    0.027799,    0.027757,    0.027716,\n",
      "           0.027675,    0.027592,     0.02745,    0.027307,    0.027164,    0.027021,    0.026878,    0.026735,    0.026065,    0.025761,     0.02569,    0.025618,    0.025547,    0.025475,    0.025403,    0.025332,     0.02526,    0.025188,    0.025117,    0.025045,    0.024974,    0.024902,    0.024781,\n",
      "           0.024645,    0.024509,    0.024373,    0.024236,      0.0241,    0.023964,    0.023866,    0.023769,    0.023672,    0.023575,    0.023477,     0.02338,    0.023283,    0.023186,    0.023088,    0.022088,     0.02191,    0.021732,    0.021555,    0.021377,      0.0212,     0.02106,    0.020921,\n",
      "           0.020782,    0.020643,    0.020503,    0.020364,    0.020103,    0.019634,    0.018702,    0.017248,     0.01531,    0.014304,           0]]), 'Confidence', 'Recall']]\n",
      "fitness: 0.7164534174080057\n",
      "keys: ['metrics/precision(B)', 'metrics/recall(B)', 'metrics/mAP50(B)', 'metrics/mAP50-95(B)']\n",
      "maps: array([    0.68841])\n",
      "names: {0: 'License_Plate'}\n",
      "plot: True\n",
      "results_dict: {'metrics/precision(B)': 0.9745179262382955, 'metrics/recall(B)': 0.9419354838709677, 'metrics/mAP50(B)': 0.9688189440187105, 'metrics/mAP50-95(B)': 0.6884128033401495, 'fitness': 0.7164534174080057}\n",
      "save_dir: WindowsPath('runs/detect/cellphone-detection-tuned42')\n",
      "speed: {'preprocess': 0.3041463739731733, 'inference': 5.04764201594334, 'loss': 0.003923621832155714, 'postprocess': 1.5466035581102557}\n",
      "task: 'detect'\n"
     ]
    }
   ],
   "source": [
    "metrics = model.val(\n",
    "    data=os.path.join(dataset_path, \"data.yaml\"),\n",
    "    batch=4,\n",
    "    imgsz=640,\n",
    "    split='test' \n",
    ")\n",
    "print(metrics)"
   ]
  }
 ],
 "metadata": {
  "kernelspec": {
   "display_name": "Python 3",
   "language": "python",
   "name": "python3"
  },
  "language_info": {
   "codemirror_mode": {
    "name": "ipython",
    "version": 3
   },
   "file_extension": ".py",
   "mimetype": "text/x-python",
   "name": "python",
   "nbconvert_exporter": "python",
   "pygments_lexer": "ipython3",
   "version": "3.12.2"
  }
 },
 "nbformat": 4,
 "nbformat_minor": 2
}
